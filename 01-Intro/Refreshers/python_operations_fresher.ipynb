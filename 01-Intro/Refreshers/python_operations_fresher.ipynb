{
 "cells": [
  {
   "cell_type": "code",
   "execution_count": 2,
   "id": "fff90ae6-d1b6-4b1a-bcf7-d980b08c043e",
   "metadata": {},
   "outputs": [],
   "source": [
    "import numpy as np\n"
   ]
  },
  {
   "cell_type": "markdown",
   "id": "d6116d3f-73c4-432a-997e-104853e27cfc",
   "metadata": {},
   "source": [
    "## Creating Arrays with Zeeros, Ones or constants"
   ]
  },
  {
   "cell_type": "code",
   "execution_count": 3,
   "id": "31f18667-8be8-4342-be68-1cd025a2d6b6",
   "metadata": {},
   "outputs": [],
   "source": [
    "zeros_array= np.zeros(10)\n",
    "ones_array=np.ones(10)\n",
    "constant_array=np.full(10,3)"
   ]
  },
  {
   "cell_type": "code",
   "execution_count": 4,
   "id": "59348c20-1aef-4bdb-96b5-b76f29b51f30",
   "metadata": {},
   "outputs": [
    {
     "data": {
      "text/plain": [
       "array([3, 3, 3, 3, 3, 3, 3, 3, 3, 3])"
      ]
     },
     "execution_count": 4,
     "metadata": {},
     "output_type": "execute_result"
    }
   ],
   "source": [
    "constant_array"
   ]
  },
  {
   "cell_type": "code",
   "execution_count": 5,
   "id": "bdacc875-c904-4da8-a6a7-abcef1931ad0",
   "metadata": {},
   "outputs": [
    {
     "data": {
      "text/plain": [
       "array([0., 0., 0., 0., 0., 0., 0., 0., 0., 0.])"
      ]
     },
     "execution_count": 5,
     "metadata": {},
     "output_type": "execute_result"
    }
   ],
   "source": [
    "zeros_array"
   ]
  },
  {
   "cell_type": "code",
   "execution_count": 6,
   "id": "572d4218-5cd2-4efb-ad6d-e4be51da5b3f",
   "metadata": {},
   "outputs": [
    {
     "data": {
      "text/plain": [
       "array([1., 1., 1., 1., 1., 1., 1., 1., 1., 1.])"
      ]
     },
     "execution_count": 6,
     "metadata": {},
     "output_type": "execute_result"
    }
   ],
   "source": [
    "ones_array"
   ]
  },
  {
   "cell_type": "markdown",
   "id": "c4bf880b-c18a-4ce2-bcd7-8d6d66a42b3a",
   "metadata": {},
   "source": [
    "Converting list to arrays "
   ]
  },
  {
   "cell_type": "code",
   "execution_count": 7,
   "id": "141c8154-9b1d-4adb-9d77-a0b45f002ed0",
   "metadata": {},
   "outputs": [],
   "source": [
    "my_list=[2,3,4]\n",
    "array_to_list= np.array(my_list)"
   ]
  },
  {
   "cell_type": "code",
   "execution_count": 8,
   "id": "deed009b-b28b-4ee1-b97d-e6e4eb77bb9d",
   "metadata": {},
   "outputs": [
    {
     "data": {
      "text/plain": [
       "array([2, 3, 4])"
      ]
     },
     "execution_count": 8,
     "metadata": {},
     "output_type": "execute_result"
    }
   ],
   "source": [
    "array_to_list"
   ]
  },
  {
   "cell_type": "markdown",
   "id": "ec4697ec-8436-4acc-bfea-e6e0f1b7002b",
   "metadata": {},
   "source": [
    "#### Generating Ranges of numbers "
   ]
  },
  {
   "cell_type": "code",
   "execution_count": 9,
   "id": "ead0ba56-447d-433e-8aed-1f365c24ea68",
   "metadata": {},
   "outputs": [
    {
     "data": {
      "text/plain": [
       "array([0, 1, 2, 3, 4, 5, 6, 7, 8, 9])"
      ]
     },
     "execution_count": 9,
     "metadata": {},
     "output_type": "execute_result"
    }
   ],
   "source": [
    "range_of_num=np.arange(0,10)\n",
    "range_of_num"
   ]
  },
  {
   "cell_type": "code",
   "execution_count": 10,
   "id": "b993b733-9aec-4fe7-9c1f-d64b9a631aef",
   "metadata": {},
   "outputs": [
    {
     "data": {
      "text/plain": [
       "array([0.        , 0.22222222, 0.44444444, 0.66666667, 0.88888889,\n",
       "       1.11111111, 1.33333333, 1.55555556, 1.77777778, 2.        ])"
      ]
     },
     "execution_count": 10,
     "metadata": {},
     "output_type": "execute_result"
    }
   ],
   "source": [
    "#Creating an array with Linear space \n",
    "\n",
    "linespace_array=np.linspace(0,2,10)\n",
    "linespace_array"
   ]
  },
  {
   "cell_type": "markdown",
   "id": "85ebb934-9f96-4eeb-919f-24400237233c",
   "metadata": {},
   "source": [
    "#### multi dimensional array"
   ]
  },
  {
   "cell_type": "code",
   "execution_count": 11,
   "id": "b49b153a-4814-4373-a807-bd2d868175aa",
   "metadata": {},
   "outputs": [],
   "source": [
    "zero_matrix = np.zeros((10,5))"
   ]
  },
  {
   "cell_type": "code",
   "execution_count": 12,
   "id": "63f83fe3-9fda-4b35-b96d-1da32d3a1c62",
   "metadata": {},
   "outputs": [
    {
     "data": {
      "text/plain": [
       "array([[0., 0., 0., 0., 0.],\n",
       "       [0., 0., 0., 0., 0.],\n",
       "       [0., 0., 0., 0., 0.],\n",
       "       [0., 0., 0., 0., 0.],\n",
       "       [0., 0., 0., 0., 0.],\n",
       "       [0., 0., 0., 0., 0.],\n",
       "       [0., 0., 0., 0., 0.],\n",
       "       [0., 0., 0., 0., 0.],\n",
       "       [0., 0., 0., 0., 0.],\n",
       "       [0., 0., 0., 0., 0.]])"
      ]
     },
     "execution_count": 12,
     "metadata": {},
     "output_type": "execute_result"
    }
   ],
   "source": [
    "zero_matrix"
   ]
  },
  {
   "cell_type": "code",
   "execution_count": 13,
   "id": "0fd1daa9-bf98-4f0a-86ef-eb063f3e220e",
   "metadata": {},
   "outputs": [
    {
     "data": {
      "text/plain": [
       "array([[1., 1., 1., 1., 1., 1., 1., 1.],\n",
       "       [1., 1., 1., 1., 1., 1., 1., 1.],\n",
       "       [1., 1., 1., 1., 1., 1., 1., 1.],\n",
       "       [1., 1., 1., 1., 1., 1., 1., 1.],\n",
       "       [1., 1., 1., 1., 1., 1., 1., 1.]])"
      ]
     },
     "execution_count": 13,
     "metadata": {},
     "output_type": "execute_result"
    }
   ],
   "source": [
    "ones_Matrix=np.ones((5,8))\n",
    "ones_Matrix"
   ]
  },
  {
   "cell_type": "code",
   "execution_count": 14,
   "id": "a4478a08-222e-4f06-829f-be1a41fb0865",
   "metadata": {},
   "outputs": [
    {
     "data": {
      "text/plain": [
       "array([[2, 3, 4],\n",
       "       [4, 5, 6]])"
      ]
     },
     "execution_count": 14,
     "metadata": {},
     "output_type": "execute_result"
    }
   ],
   "source": [
    "arr = np.array([[2, 3, 4], [4, 5, 6]])\n",
    "arr"
   ]
  },
  {
   "cell_type": "code",
   "execution_count": 15,
   "id": "6317dcf0-d05d-4eeb-99fd-c9bf364b8d27",
   "metadata": {},
   "outputs": [
    {
     "data": {
      "text/plain": [
       "array([2, 3, 4])"
      ]
     },
     "execution_count": 15,
     "metadata": {},
     "output_type": "execute_result"
    }
   ],
   "source": [
    "arr[0]"
   ]
  },
  {
   "cell_type": "code",
   "execution_count": 16,
   "id": "2de84d58-f3e1-4f58-aaff-f1c37b7c542f",
   "metadata": {},
   "outputs": [
    {
     "data": {
      "text/plain": [
       "array([3, 5])"
      ]
     },
     "execution_count": 16,
     "metadata": {},
     "output_type": "execute_result"
    }
   ],
   "source": [
    "arr[:,1]"
   ]
  },
  {
   "cell_type": "code",
   "execution_count": 17,
   "id": "f689321f-c936-4a7b-846b-f3e922192150",
   "metadata": {},
   "outputs": [
    {
     "data": {
      "text/plain": [
       "array([4, 5, 6])"
      ]
     },
     "execution_count": 17,
     "metadata": {},
     "output_type": "execute_result"
    }
   ],
   "source": [
    "arr[1,:]"
   ]
  },
  {
   "cell_type": "markdown",
   "id": "60f015f3-f22c-478e-aa5e-48865c469e32",
   "metadata": {},
   "source": [
    "## Generating random arrays "
   ]
  },
  {
   "cell_type": "code",
   "execution_count": 18,
   "id": "6959e0bb-d902-4e27-8466-59a9b1dfb8e5",
   "metadata": {},
   "outputs": [],
   "source": [
    "np.random.seed(2)"
   ]
  },
  {
   "cell_type": "code",
   "execution_count": 19,
   "id": "4bb28123-e380-469a-9968-dccf45a31e8c",
   "metadata": {},
   "outputs": [
    {
     "data": {
      "text/plain": [
       "array([[0.4359949 , 0.02592623],\n",
       "       [0.54966248, 0.43532239],\n",
       "       [0.4203678 , 0.33033482],\n",
       "       [0.20464863, 0.61927097],\n",
       "       [0.29965467, 0.26682728]])"
      ]
     },
     "execution_count": 19,
     "metadata": {},
     "output_type": "execute_result"
    }
   ],
   "source": [
    "random_array=np.random.rand(5,2)  #note that the rand method is used to generate a random decimal number beywen 0 and 1 \n",
    "random_array"
   ]
  },
  {
   "cell_type": "code",
   "execution_count": 20,
   "id": "7d8cf9c5-3ba1-4f93-9fa0-365ab8504546",
   "metadata": {},
   "outputs": [
    {
     "data": {
      "text/plain": [
       "5"
      ]
     },
     "execution_count": 20,
     "metadata": {},
     "output_type": "execute_result"
    }
   ],
   "source": [
    "len(random_array)"
   ]
  },
  {
   "cell_type": "code",
   "execution_count": 21,
   "id": "e90732ba-872b-4251-939d-e53969c703c3",
   "metadata": {},
   "outputs": [],
   "source": [
    " sample= sum(len(row) for row in random_array)"
   ]
  },
  {
   "cell_type": "code",
   "execution_count": 22,
   "id": "8e996852-4ea8-4592-ae4a-d8aa61d115de",
   "metadata": {},
   "outputs": [
    {
     "data": {
      "text/plain": [
       "10"
      ]
     },
     "execution_count": 22,
     "metadata": {},
     "output_type": "execute_result"
    }
   ],
   "source": [
    "sample"
   ]
  },
  {
   "cell_type": "code",
   "execution_count": 23,
   "id": "4f7d07be-3bfe-42e2-b32a-64e16303cef5",
   "metadata": {},
   "outputs": [
    {
     "data": {
      "text/plain": [
       "10"
      ]
     },
     "execution_count": 23,
     "metadata": {},
     "output_type": "execute_result"
    }
   ],
   "source": [
    "random_array.size"
   ]
  },
  {
   "cell_type": "code",
   "execution_count": 24,
   "id": "72d2bf4e-bdd7-4154-8133-e991d80d5cbb",
   "metadata": {},
   "outputs": [
    {
     "data": {
      "text/plain": [
       "10"
      ]
     },
     "execution_count": 24,
     "metadata": {},
     "output_type": "execute_result"
    }
   ],
   "source": [
    "np.size(random_array)"
   ]
  },
  {
   "cell_type": "markdown",
   "id": "a4001159-05b6-42f5-8ff9-b6ff203288ac",
   "metadata": {},
   "source": [
    "## Array Operations\n",
    "- Numpy excels in performing mathematical operations on arrays efficiently.\n",
    "\n",
    "### Element-wise Operations\n",
    "You can perform operations on entire arrays element by element:"
   ]
  },
  {
   "cell_type": "code",
   "execution_count": 25,
   "id": "dea3afcd-fc07-4736-8f2c-f0d1a593f23e",
   "metadata": {},
   "outputs": [],
   "source": [
    "arr= arr +1 # add one to each element\n"
   ]
  },
  {
   "cell_type": "code",
   "execution_count": 26,
   "id": "8632b3e7-837c-40b8-874e-b08c65abf0d4",
   "metadata": {},
   "outputs": [
    {
     "data": {
      "text/plain": [
       "array([[3, 4, 5],\n",
       "       [5, 6, 7]])"
      ]
     },
     "execution_count": 26,
     "metadata": {},
     "output_type": "execute_result"
    }
   ],
   "source": [
    "arr"
   ]
  },
  {
   "cell_type": "code",
   "execution_count": 27,
   "id": "b24ac210-5238-4dff-ae59-f837a07ce684",
   "metadata": {},
   "outputs": [
    {
     "data": {
      "text/plain": [
       "array([[5, 6, 7],\n",
       "       [7, 8, 9]])"
      ]
     },
     "execution_count": 27,
     "metadata": {},
     "output_type": "execute_result"
    }
   ],
   "source": [
    "arr + 2"
   ]
  },
  {
   "cell_type": "code",
   "execution_count": 28,
   "id": "68930089-2e5d-4631-988d-78e3c64c44d4",
   "metadata": {},
   "outputs": [],
   "source": [
    "arr1=np.ones (4)\n",
    "arr2=np.full(4,3)"
   ]
  },
  {
   "cell_type": "code",
   "execution_count": 29,
   "id": "bb4bad0e-d973-4cf9-8e4a-72b7dab8abbc",
   "metadata": {},
   "outputs": [
    {
     "data": {
      "text/plain": [
       "array([7., 7., 7., 7.])"
      ]
     },
     "execution_count": 29,
     "metadata": {},
     "output_type": "execute_result"
    }
   ],
   "source": [
    "result= sum(arr1,arr2)\n",
    "result"
   ]
  },
  {
   "cell_type": "code",
   "execution_count": 30,
   "id": "2010b21d-267b-4cae-8f3c-a6ac47ca7ad5",
   "metadata": {},
   "outputs": [],
   "source": [
    "result= arr1/arr2"
   ]
  },
  {
   "cell_type": "code",
   "execution_count": 31,
   "id": "db5ff767-2fb3-4fac-919a-40938832476e",
   "metadata": {},
   "outputs": [
    {
     "data": {
      "text/plain": [
       "array([0.33333333, 0.33333333, 0.33333333, 0.33333333])"
      ]
     },
     "execution_count": 31,
     "metadata": {},
     "output_type": "execute_result"
    }
   ],
   "source": [
    "result"
   ]
  },
  {
   "cell_type": "code",
   "execution_count": 32,
   "id": "a4607d74-4b25-4d97-920b-5566cfebf001",
   "metadata": {},
   "outputs": [],
   "source": [
    "arr = np.array([1, 2, 3, 4])\n",
    "greater_than_2 = arr > 2  # Produces [False, False, True, True]"
   ]
  },
  {
   "cell_type": "code",
   "execution_count": 33,
   "id": "b3c9c6bf-8a6f-4d18-a9b7-5d591a98834a",
   "metadata": {},
   "outputs": [
    {
     "data": {
      "text/plain": [
       "array([False, False,  True,  True])"
      ]
     },
     "execution_count": 33,
     "metadata": {},
     "output_type": "execute_result"
    }
   ],
   "source": [
    "greater_than_2 "
   ]
  },
  {
   "cell_type": "code",
   "execution_count": 34,
   "id": "8d0c22e7-c6ea-4e4c-abbe-ebf7f9e98c80",
   "metadata": {},
   "outputs": [],
   "source": [
    "max_value=arr.max()\n",
    "min_value=arr.min()\n",
    "summation=arr.sum()\n",
    "mean_value=arr.mean()\n",
    "std_deviation=arr.std()"
   ]
  },
  {
   "cell_type": "code",
   "execution_count": 35,
   "id": "62edf8c5-2d96-4d62-a4ec-60fa271c2a73",
   "metadata": {},
   "outputs": [
    {
     "name": "stdout",
     "output_type": "stream",
     "text": [
      "2.5\n"
     ]
    }
   ],
   "source": [
    "print(mean_value)\n"
   ]
  },
  {
   "cell_type": "code",
   "execution_count": 36,
   "id": "df05e2e6-ec45-4fd0-b31d-b8a5cd63d670",
   "metadata": {},
   "outputs": [
    {
     "name": "stdout",
     "output_type": "stream",
     "text": [
      "1.118033988749895\n"
     ]
    }
   ],
   "source": [
    "print(std_deviation)"
   ]
  },
  {
   "cell_type": "markdown",
   "id": "9911404e-2e81-4241-90be-6a52e79fc27c",
   "metadata": {},
   "source": [
    "# Linear algebra "
   ]
  },
  {
   "cell_type": "markdown",
   "id": "f681de22-21a8-4543-a53e-4e9e3012cc80",
   "metadata": {},
   "source": [
    "- Vector operations\n",
    "- Multiplication\n",
    "- Vector-vector multiplication\n",
    "- Matrix-vector multiplication\n",
    "- Matrix-matrix multiplication\n",
    "- Identity matrix\n",
    "- Inverse"
   ]
  },
  {
   "cell_type": "markdown",
   "id": "bd2f740c-432a-4742-bd3a-0b6a436e8f93",
   "metadata": {},
   "source": [
    "## Vector Operations "
   ]
  },
  {
   "cell_type": "code",
   "execution_count": 37,
   "id": "b3e41d21-c290-496a-8e3f-5126456ccb6f",
   "metadata": {},
   "outputs": [
    {
     "data": {
      "text/plain": [
       "array([ 9, 11, 13,  8])"
      ]
     },
     "execution_count": 37,
     "metadata": {},
     "output_type": "execute_result"
    }
   ],
   "source": [
    "u=np.array([2,3,4,5])\n",
    "v=np.array([7,8,9,3])\n",
    "\n",
    "u+ v"
   ]
  },
  {
   "cell_type": "code",
   "execution_count": 38,
   "id": "f2e3efb6-8802-4fb4-9cf5-84003cc7739c",
   "metadata": {},
   "outputs": [
    {
     "data": {
      "text/plain": [
       "array([-5, -5, -5,  2])"
      ]
     },
     "execution_count": 38,
     "metadata": {},
     "output_type": "execute_result"
    }
   ],
   "source": [
    "u-v"
   ]
  },
  {
   "cell_type": "code",
   "execution_count": 39,
   "id": "3bdaaa27-9120-46cb-9ac9-97da007e3761",
   "metadata": {},
   "outputs": [
    {
     "data": {
      "text/plain": [
       "array([14, 16, 18,  6])"
      ]
     },
     "execution_count": 39,
     "metadata": {},
     "output_type": "execute_result"
    }
   ],
   "source": [
    "2*v"
   ]
  },
  {
   "cell_type": "code",
   "execution_count": 40,
   "id": "d0697f35-33e5-42e0-82ff-ee07fd4acca4",
   "metadata": {},
   "outputs": [
    {
     "data": {
      "text/plain": [
       "int"
      ]
     },
     "execution_count": 40,
     "metadata": {},
     "output_type": "execute_result"
    }
   ],
   "source": [
    "type(u.shape[0])"
   ]
  },
  {
   "cell_type": "markdown",
   "id": "6c334527-3a4b-4a09-a735-ed05df413dfd",
   "metadata": {},
   "source": [
    "## Vector Multiplication"
   ]
  },
  {
   "cell_type": "code",
   "execution_count": 41,
   "id": "0a2e77de-0a61-4216-ad9b-30c6db9ba45f",
   "metadata": {},
   "outputs": [],
   "source": [
    "def vector_vectpor_multiplication (u,v):\n",
    "    assert u.shape[0]==v.shape[0], \"the dimensions of both vectors must be the same\"\n",
    "    n= u.shape[0]\n",
    "    container=[]\n",
    "    for x in range(n):\n",
    "        dot=u[x]*v[x]\n",
    "        container.append(dot)\n",
    "    result_mul= sum(container)\n",
    "    return result_mul\n",
    "        "
   ]
  },
  {
   "cell_type": "code",
   "execution_count": 42,
   "id": "78e03bbc-aaef-4f85-b9a5-87bd7e703a79",
   "metadata": {},
   "outputs": [],
   "source": [
    "dot_product=vector_vectpor_multiplication(u,v)"
   ]
  },
  {
   "cell_type": "code",
   "execution_count": null,
   "id": "fd996daf-5e3c-4ad8-b29a-44c9386ed42b",
   "metadata": {},
   "outputs": [
    {
     "data": {
      "text/plain": [
       "np.int64(89)"
      ]
     },
     "execution_count": 43,
     "metadata": {},
     "output_type": "execute_result"
    }
   ],
   "source": [
    "dot_product"
   ]
  },
  {
   "cell_type": "code",
   "execution_count": 44,
   "id": "3a59150d-0fd9-4c36-88d9-b8fe4f1bedd3",
   "metadata": {},
   "outputs": [],
   "source": [
    "def vector_vector_multiplication1(u, v):\n",
    "    assert u.shape[0] == v.shape[0]\n",
    "    \n",
    "    n = u.shape[0]\n",
    "    \n",
    "    result = 0.0\n",
    "\n",
    "    for i in range(n):\n",
    "        result = result + u[i] * v[i]\n",
    "    \n",
    "    return result"
   ]
  },
  {
   "cell_type": "code",
   "execution_count": 45,
   "id": "b103292a-73c1-473d-916a-2033a46a4812",
   "metadata": {},
   "outputs": [
    {
     "data": {
      "text/plain": [
       "np.float64(89.0)"
      ]
     },
     "execution_count": 45,
     "metadata": {},
     "output_type": "execute_result"
    }
   ],
   "source": [
    "dot_product=vector_vector_multiplication1(u,v)\n",
    "dot_product"
   ]
  },
  {
   "cell_type": "markdown",
   "id": "bb268cca-1c02-4beb-9823-9dec88d7e27f",
   "metadata": {},
   "source": [
    "## Matrix vector multiplication"
   ]
  },
  {
   "cell_type": "code",
   "execution_count": 46,
   "id": "9d275bf1-abc6-45d3-bbd4-52236577f731",
   "metadata": {},
   "outputs": [],
   "source": [
    "def matrix_vector_multiplication(v,u):\n",
    "    \n",
    "    assert u.shape[0]==v.shape[1], \"number of vector rows(entries) must match matrix column number\"\n",
    "    n=v.shape[0]\n",
    "    r=v.shape[1]\n",
    "    container=[]\n",
    "    for i in range(n):\n",
    "        s=0\n",
    "        for q in range(r):\n",
    "            s=s+v[i,q]*u[q]\n",
    "        container.append(s)\n",
    "    return container \n",
    "        \n",
    "            "
   ]
  },
  {
   "cell_type": "code",
   "execution_count": 47,
   "id": "64a75f4c-6ab8-4a9c-a26d-013ca8070285",
   "metadata": {},
   "outputs": [],
   "source": [
    "u=np.array([1,3])\n",
    "v=np.array([[3,2],[2,1],[2,2]])"
   ]
  },
  {
   "cell_type": "code",
   "execution_count": 48,
   "id": "4c572041-79e4-45c5-ac9c-a65d4d18c5a5",
   "metadata": {},
   "outputs": [
    {
     "data": {
      "text/plain": [
       "[np.int64(9), np.int64(5), np.int64(8)]"
      ]
     },
     "execution_count": 48,
     "metadata": {},
     "output_type": "execute_result"
    }
   ],
   "source": [
    "matrix_vector_multiplication(v,u)"
   ]
  },
  {
   "cell_type": "code",
   "execution_count": null,
   "id": "bf41462d-22e8-4227-95e2-cb8e33532a31",
   "metadata": {},
   "outputs": [
    {
     "data": {
      "text/plain": [
       "array([[3, 2],\n",
       "       [2, 1],\n",
       "       [2, 2]])"
      ]
     },
     "execution_count": 49,
     "metadata": {},
     "output_type": "execute_result"
    }
   ],
   "source": [
    "v"
   ]
  },
  {
   "cell_type": "code",
   "execution_count": null,
   "id": "7b3636ca-f574-416e-a0e6-01d785ab0ed7",
   "metadata": {},
   "outputs": [
    {
     "data": {
      "text/plain": [
       "(3, 2)"
      ]
     },
     "execution_count": 50,
     "metadata": {},
     "output_type": "execute_result"
    }
   ],
   "source": [
    "v.shape"
   ]
  },
  {
   "cell_type": "code",
   "execution_count": 51,
   "id": "ef8e726c-500a-49ee-ab11-ae3461569a9c",
   "metadata": {},
   "outputs": [
    {
     "data": {
      "text/plain": [
       "np.int64(2)"
      ]
     },
     "execution_count": 51,
     "metadata": {},
     "output_type": "execute_result"
    }
   ],
   "source": [
    "v[0,1]"
   ]
  },
  {
   "cell_type": "code",
   "execution_count": null,
   "id": "1b11c688-9d71-4030-89dc-2a90f2b899f7",
   "metadata": {},
   "outputs": [
    {
     "data": {
      "text/plain": [
       "np.int64(1)"
      ]
     },
     "execution_count": 52,
     "metadata": {},
     "output_type": "execute_result"
    }
   ],
   "source": [
    "u[0]"
   ]
  },
  {
   "cell_type": "code",
   "execution_count": 53,
   "id": "8f745463-9868-40f8-819e-176e87721eb4",
   "metadata": {},
   "outputs": [],
   "source": [
    "def matrix_matrix_multiplication (U,V):\n",
    "    assert U.shape[1]==V.shape[0], \"The number of columns in 𝐴 must equal the number of rows in 𝐵\"\n",
    "    C= np.zeros([U.shape[0],V.shape[1]])\n",
    "    n= C.shape[0]\n",
    "    r=C.shape[1]\n",
    "    for n in range(C.shape[0]):\n",
    "        C[n,:]= matrix_vector_multiplication(V.T,U[n,:])\n",
    "    return C\n",
    "        "
   ]
  },
  {
   "cell_type": "code",
   "execution_count": 54,
   "id": "98f561e0",
   "metadata": {},
   "outputs": [],
   "source": [
    "A=np.array([[7,8],[9,10]])\n",
    "B=np.array([[1,2],[3,4],[5,6]])"
   ]
  },
  {
   "cell_type": "code",
   "execution_count": null,
   "id": "803a73a7",
   "metadata": {},
   "outputs": [
    {
     "data": {
      "text/plain": [
       "array([[ 7,  8],\n",
       "       [ 9, 10]])"
      ]
     },
     "execution_count": 55,
     "metadata": {},
     "output_type": "execute_result"
    }
   ],
   "source": [
    "A"
   ]
  },
  {
   "cell_type": "code",
   "execution_count": 56,
   "id": "e1d24962",
   "metadata": {},
   "outputs": [
    {
     "data": {
      "text/plain": [
       "array([[ 25.,  28.],\n",
       "       [ 57.,  64.],\n",
       "       [ 89., 100.]])"
      ]
     },
     "execution_count": 56,
     "metadata": {},
     "output_type": "execute_result"
    }
   ],
   "source": [
    "matrix_matrix_multiplication(B,A)"
   ]
  },
  {
   "cell_type": "code",
   "execution_count": 57,
   "id": "306829f7",
   "metadata": {},
   "outputs": [
    {
     "data": {
      "text/plain": [
       "array([[0., 0., 0.],\n",
       "       [0., 0., 0.]])"
      ]
     },
     "execution_count": 57,
     "metadata": {},
     "output_type": "execute_result"
    }
   ],
   "source": [
    "C= np.zeros([2,3])\n",
    "C"
   ]
  },
  {
   "cell_type": "code",
   "execution_count": 58,
   "id": "42ab5433",
   "metadata": {},
   "outputs": [
    {
     "name": "stdout",
     "output_type": "stream",
     "text": [
      "[[ 23.  29.]\n",
      " [ 53.  67.]\n",
      " [ 83. 105.]]\n"
     ]
    }
   ],
   "source": [
    "import numpy as np\n",
    "\n",
    "def matrix_vector_multiplication(v, u):\n",
    "    assert u.shape[0] == v.shape[1], \"Number of vector rows(entries) must match matrix column number\"\n",
    "    n = v.shape[0]  # Number of rows in matrix\n",
    "    r = v.shape[1]  # Number of columns in matrix (must match vector length)\n",
    "    \n",
    "    container = []\n",
    "    for i in range(n):\n",
    "        s = 0\n",
    "        for q in range(r):\n",
    "            s += v[i, q] * u[q]\n",
    "        container.append(s)\n",
    "    \n",
    "    return np.array(container)  # Return as NumPy array for consistency\n",
    "\n",
    "def matrix_matrix_multiplication(U, V):\n",
    "    assert U.shape[1] == V.shape[0], \"The number of columns in A must equal the number of rows in B\"\n",
    "    \n",
    "    # Create result matrix C with zeros\n",
    "    C = np.zeros((U.shape[0], V.shape[1]))  \n",
    "    \n",
    "    # Corrected loop variable (use `i` instead of overwriting `n`)\n",
    "    for i in range(U.shape[0]):  \n",
    "        C[i, :] = matrix_vector_multiplication(V, U[i, :])  # Row-wise multiplication\n",
    "    \n",
    "    return C\n",
    "\n",
    "# Define matrices\n",
    "A = np.array([[7, 8], [9, 10]])\n",
    "B = np.array([[1, 2], [3, 4], [5, 6]])\n",
    "\n",
    "# Compute multiplication B × A\n",
    "result = matrix_matrix_multiplication(B, A)\n",
    "print(result)\n"
   ]
  },
  {
   "cell_type": "code",
   "execution_count": null,
   "id": "1f093ea9",
   "metadata": {},
   "outputs": [
    {
     "name": "stdout",
     "output_type": "stream",
     "text": [
      "[[ 23.  29.]\n",
      " [ 53.  67.]\n",
      " [ 83. 105.]]\n"
     ]
    }
   ],
   "source": [
    "import numpy as np\n",
    "\n",
    "def matrix_vector_multiplication(v, u):\n",
    "    \"\"\"Performs the dot product of matrix v (m×n) with vector u (n,)\"\"\"\n",
    "    assert v.shape[1] == u.shape[0], \"Number of vector entries must match matrix column count\"\n",
    "    \n",
    "    n = v.shape[0]  # Number of rows in matrix\n",
    "    r = v.shape[1]  # Number of columns in matrix (should match length of u)\n",
    "    \n",
    "    container = []\n",
    "    \n",
    "    for i in range(n):\n",
    "        s = 0\n",
    "        for q in range(r):\n",
    "            s += v[i, q] * u[q]  # Element-wise multiplication and summation\n",
    "        container.append(s)\n",
    "    \n",
    "    return np.array(container)  # Ensure output is a NumPy array\n",
    "\n",
    "def matrix_matrix_multiplication(U, V):\n",
    "    \"\"\"Performs matrix-matrix multiplication by treating each row of U as a vector\"\"\"\n",
    "    assert U.shape[1] == V.shape[0], \"The number of columns in A must equal the number of rows in B\"\n",
    "    \n",
    "    # Create the result matrix C with zeros\n",
    "    C = np.zeros((U.shape[0], V.shape[1]))  \n",
    "    \n",
    "    for i in range(U.shape[0]):  \n",
    "        C[i, :] = matrix_vector_multiplication(V, U[i, :])  # Multiply each row of U with V\n",
    "    \n",
    "    return C\n",
    "\n",
    "# Define matrices\n",
    "A = np.array([[7, 8], [9, 10]])\n",
    "B = np.array([[1, 2], [3, 4], [5, 6]])\n",
    "\n",
    "# Compute B × A\n",
    "result = matrix_matrix_multiplication(B, A)\n",
    "print(result)\n"
   ]
  },
  {
   "cell_type": "code",
   "execution_count": 60,
   "id": "0342648b",
   "metadata": {},
   "outputs": [
    {
     "name": "stdout",
     "output_type": "stream",
     "text": [
      "[[ 25.  28.]\n",
      " [ 57.  64.]\n",
      " [ 89. 100.]]\n"
     ]
    }
   ],
   "source": [
    "import numpy as np\n",
    "\n",
    "def matrix_vector_multiplication(v, u):\n",
    "    \"\"\"Computes the dot product of matrix v (n×m) with vector u (m,)\"\"\"\n",
    "    assert v.shape[1] == u.shape[0], \"Number of vector entries must match matrix column count\"\n",
    "    \n",
    "    n = v.shape[0]  # Number of rows in matrix\n",
    "    container = []\n",
    "    \n",
    "    for i in range(n):\n",
    "        s = 0\n",
    "        for q in range(v.shape[1]):  # Iterate over columns of `v`\n",
    "            s += v[i, q] * u[q]  # Dot product computation\n",
    "        container.append(s)\n",
    "    \n",
    "    return np.array(container)\n",
    "\n",
    "def matrix_matrix_multiplication(U, V):\n",
    "    \"\"\"Computes matrix-matrix multiplication by treating each row of U as a vector\"\"\"\n",
    "    assert U.shape[1] == V.shape[0], \"The number of columns in U must equal the number of rows in V\"\n",
    "    \n",
    "    C = np.zeros((U.shape[0], V.shape[1]))  # Resulting matrix shape (m, p)\n",
    "\n",
    "    for i in range(U.shape[0]):  \n",
    "        C[i, :] = matrix_vector_multiplication(V.T, U[i, :])  # Correct order\n",
    "    \n",
    "    return C\n",
    "\n",
    "# Define matrices\n",
    "A = np.array([[7, 8], [9, 10]])\n",
    "B = np.array([[1, 2], [3, 4], [5, 6]])\n",
    "\n",
    "# Compute B × A\n",
    "result = matrix_matrix_multiplication(B, A)\n",
    "print(result)\n"
   ]
  },
  {
   "cell_type": "markdown",
   "id": "96c29ba1",
   "metadata": {},
   "source": [
    "# Pandas"
   ]
  },
  {
   "cell_type": "code",
   "execution_count": 61,
   "id": "62b6504b",
   "metadata": {},
   "outputs": [],
   "source": [
    "import pandas as pd"
   ]
  },
  {
   "cell_type": "code",
   "execution_count": 62,
   "id": "1cf67921",
   "metadata": {},
   "outputs": [],
   "source": [
    "data = [\n",
    "    ['Nissan', 'Stanza', 1991, 138, 4, 'MANUAL', 'sedan', 2000],\n",
    "    ['Hyundai', 'Sonata', 2017, None, 4, 'AUTOMATIC', 'Sedan', 27150],\n",
    "    ['Lotus', 'Elise', 2010, 218, 4, 'MANUAL', 'convertible', 54990],\n",
    "    ['GMC', 'Acadia',  2017, 194, 4, 'AUTOMATIC', '4dr SUV', 34450],\n",
    "    ['Nissan', 'Frontier', 2017, 261, 6, 'MANUAL', 'Pickup', 32340],\n",
    "]\n",
    "\n",
    "columns = [\n",
    "    'Make', 'Model', 'Year', 'Engine HP', 'Engine Cylinders',\n",
    "    'Transmission Type', 'Vehicle_Style', 'MSRP'\n",
    "]\n",
    "\n"
   ]
  },
  {
   "cell_type": "code",
   "execution_count": 63,
   "id": "e0984081",
   "metadata": {},
   "outputs": [
    {
     "data": {
      "text/html": [
       "<div>\n",
       "<style scoped>\n",
       "    .dataframe tbody tr th:only-of-type {\n",
       "        vertical-align: middle;\n",
       "    }\n",
       "\n",
       "    .dataframe tbody tr th {\n",
       "        vertical-align: top;\n",
       "    }\n",
       "\n",
       "    .dataframe thead th {\n",
       "        text-align: right;\n",
       "    }\n",
       "</style>\n",
       "<table border=\"1\" class=\"dataframe\">\n",
       "  <thead>\n",
       "    <tr style=\"text-align: right;\">\n",
       "      <th></th>\n",
       "      <th>Make</th>\n",
       "      <th>Model</th>\n",
       "      <th>Year</th>\n",
       "      <th>Engine HP</th>\n",
       "      <th>Engine Cylinders</th>\n",
       "      <th>Transmission Type</th>\n",
       "      <th>Vehicle_Style</th>\n",
       "      <th>MSRP</th>\n",
       "    </tr>\n",
       "  </thead>\n",
       "  <tbody>\n",
       "    <tr>\n",
       "      <th>0</th>\n",
       "      <td>Nissan</td>\n",
       "      <td>Stanza</td>\n",
       "      <td>1991</td>\n",
       "      <td>138.0</td>\n",
       "      <td>4</td>\n",
       "      <td>MANUAL</td>\n",
       "      <td>sedan</td>\n",
       "      <td>2000</td>\n",
       "    </tr>\n",
       "    <tr>\n",
       "      <th>1</th>\n",
       "      <td>Hyundai</td>\n",
       "      <td>Sonata</td>\n",
       "      <td>2017</td>\n",
       "      <td>NaN</td>\n",
       "      <td>4</td>\n",
       "      <td>AUTOMATIC</td>\n",
       "      <td>Sedan</td>\n",
       "      <td>27150</td>\n",
       "    </tr>\n",
       "    <tr>\n",
       "      <th>2</th>\n",
       "      <td>Lotus</td>\n",
       "      <td>Elise</td>\n",
       "      <td>2010</td>\n",
       "      <td>218.0</td>\n",
       "      <td>4</td>\n",
       "      <td>MANUAL</td>\n",
       "      <td>convertible</td>\n",
       "      <td>54990</td>\n",
       "    </tr>\n",
       "    <tr>\n",
       "      <th>3</th>\n",
       "      <td>GMC</td>\n",
       "      <td>Acadia</td>\n",
       "      <td>2017</td>\n",
       "      <td>194.0</td>\n",
       "      <td>4</td>\n",
       "      <td>AUTOMATIC</td>\n",
       "      <td>4dr SUV</td>\n",
       "      <td>34450</td>\n",
       "    </tr>\n",
       "    <tr>\n",
       "      <th>4</th>\n",
       "      <td>Nissan</td>\n",
       "      <td>Frontier</td>\n",
       "      <td>2017</td>\n",
       "      <td>261.0</td>\n",
       "      <td>6</td>\n",
       "      <td>MANUAL</td>\n",
       "      <td>Pickup</td>\n",
       "      <td>32340</td>\n",
       "    </tr>\n",
       "  </tbody>\n",
       "</table>\n",
       "</div>"
      ],
      "text/plain": [
       "      Make     Model  Year  Engine HP  Engine Cylinders Transmission Type  \\\n",
       "0   Nissan    Stanza  1991      138.0                 4            MANUAL   \n",
       "1  Hyundai    Sonata  2017        NaN                 4         AUTOMATIC   \n",
       "2    Lotus     Elise  2010      218.0                 4            MANUAL   \n",
       "3      GMC    Acadia  2017      194.0                 4         AUTOMATIC   \n",
       "4   Nissan  Frontier  2017      261.0                 6            MANUAL   \n",
       "\n",
       "  Vehicle_Style   MSRP  \n",
       "0         sedan   2000  \n",
       "1         Sedan  27150  \n",
       "2   convertible  54990  \n",
       "3       4dr SUV  34450  \n",
       "4        Pickup  32340  "
      ]
     },
     "execution_count": 63,
     "metadata": {},
     "output_type": "execute_result"
    }
   ],
   "source": [
    "df=pd.DataFrame(data,columns=columns)\n",
    "df"
   ]
  },
  {
   "cell_type": "markdown",
   "id": "44388da7",
   "metadata": {},
   "source": [
    "Series\n",
    "Columns in a data frame - series. To access it, use dot or brackets"
   ]
  },
  {
   "cell_type": "code",
   "execution_count": 64,
   "id": "80ed27b7",
   "metadata": {},
   "outputs": [
    {
     "data": {
      "text/plain": [
       "0     Nissan\n",
       "1    Hyundai\n",
       "2      Lotus\n",
       "3        GMC\n",
       "4     Nissan\n",
       "Name: Make, dtype: object"
      ]
     },
     "execution_count": 64,
     "metadata": {},
     "output_type": "execute_result"
    }
   ],
   "source": [
    "df.Make"
   ]
  },
  {
   "cell_type": "code",
   "execution_count": 65,
   "id": "c92e037e",
   "metadata": {},
   "outputs": [
    {
     "data": {
      "text/plain": [
       "0     Nissan\n",
       "1    Hyundai\n",
       "2      Lotus\n",
       "3        GMC\n",
       "4     Nissan\n",
       "Name: Make, dtype: object"
      ]
     },
     "execution_count": 65,
     "metadata": {},
     "output_type": "execute_result"
    }
   ],
   "source": [
    "df['Make']"
   ]
  },
  {
   "cell_type": "markdown",
   "id": "641f8b44",
   "metadata": {},
   "source": [
    "Note that if a name contains space you can't use dot name"
   ]
  },
  {
   "cell_type": "code",
   "execution_count": 66,
   "id": "2b5ec1f2",
   "metadata": {},
   "outputs": [
    {
     "data": {
      "text/html": [
       "<div>\n",
       "<style scoped>\n",
       "    .dataframe tbody tr th:only-of-type {\n",
       "        vertical-align: middle;\n",
       "    }\n",
       "\n",
       "    .dataframe tbody tr th {\n",
       "        vertical-align: top;\n",
       "    }\n",
       "\n",
       "    .dataframe thead th {\n",
       "        text-align: right;\n",
       "    }\n",
       "</style>\n",
       "<table border=\"1\" class=\"dataframe\">\n",
       "  <thead>\n",
       "    <tr style=\"text-align: right;\">\n",
       "      <th></th>\n",
       "      <th>Make</th>\n",
       "      <th>Model</th>\n",
       "      <th>MSRP</th>\n",
       "    </tr>\n",
       "  </thead>\n",
       "  <tbody>\n",
       "    <tr>\n",
       "      <th>0</th>\n",
       "      <td>Nissan</td>\n",
       "      <td>Stanza</td>\n",
       "      <td>2000</td>\n",
       "    </tr>\n",
       "    <tr>\n",
       "      <th>1</th>\n",
       "      <td>Hyundai</td>\n",
       "      <td>Sonata</td>\n",
       "      <td>27150</td>\n",
       "    </tr>\n",
       "    <tr>\n",
       "      <th>2</th>\n",
       "      <td>Lotus</td>\n",
       "      <td>Elise</td>\n",
       "      <td>54990</td>\n",
       "    </tr>\n",
       "    <tr>\n",
       "      <th>3</th>\n",
       "      <td>GMC</td>\n",
       "      <td>Acadia</td>\n",
       "      <td>34450</td>\n",
       "    </tr>\n",
       "    <tr>\n",
       "      <th>4</th>\n",
       "      <td>Nissan</td>\n",
       "      <td>Frontier</td>\n",
       "      <td>32340</td>\n",
       "    </tr>\n",
       "  </tbody>\n",
       "</table>\n",
       "</div>"
      ],
      "text/plain": [
       "      Make     Model   MSRP\n",
       "0   Nissan    Stanza   2000\n",
       "1  Hyundai    Sonata  27150\n",
       "2    Lotus     Elise  54990\n",
       "3      GMC    Acadia  34450\n",
       "4   Nissan  Frontier  32340"
      ]
     },
     "execution_count": 66,
     "metadata": {},
     "output_type": "execute_result"
    }
   ],
   "source": [
    "#use a list to select a subset of column\n",
    "df[['Make','Model','MSRP']] "
   ]
  },
  {
   "cell_type": "markdown",
   "id": "bffdd22d",
   "metadata": {},
   "source": [
    "# Index"
   ]
  },
  {
   "cell_type": "code",
   "execution_count": 67,
   "id": "60188de1",
   "metadata": {},
   "outputs": [
    {
     "data": {
      "text/plain": [
       "RangeIndex(start=0, stop=5, step=1)"
      ]
     },
     "execution_count": 67,
     "metadata": {},
     "output_type": "execute_result"
    }
   ],
   "source": [
    "df.index"
   ]
  },
  {
   "cell_type": "code",
   "execution_count": 68,
   "id": "a8d8e8af",
   "metadata": {},
   "outputs": [
    {
     "data": {
      "text/plain": [
       "RangeIndex(start=0, stop=5, step=1)"
      ]
     },
     "execution_count": 68,
     "metadata": {},
     "output_type": "execute_result"
    }
   ],
   "source": [
    "df.Make.index"
   ]
  },
  {
   "cell_type": "code",
   "execution_count": 69,
   "id": "d7957fc8",
   "metadata": {},
   "outputs": [
    {
     "data": {
      "text/plain": [
       "Index(['Make', 'Model', 'Year', 'Engine HP', 'Engine Cylinders',\n",
       "       'Transmission Type', 'Vehicle_Style', 'MSRP'],\n",
       "      dtype='object')"
      ]
     },
     "execution_count": 69,
     "metadata": {},
     "output_type": "execute_result"
    }
   ],
   "source": [
    "df.columns"
   ]
  },
  {
   "cell_type": "code",
   "execution_count": 70,
   "id": "c57def01",
   "metadata": {},
   "outputs": [
    {
     "data": {
      "text/plain": [
       "Make                 Nissan\n",
       "Model                Stanza\n",
       "Year                   1991\n",
       "Engine HP             138.0\n",
       "Engine Cylinders          4\n",
       "Transmission Type    MANUAL\n",
       "Vehicle_Style         sedan\n",
       "MSRP                   2000\n",
       "Name: 0, dtype: object"
      ]
     },
     "execution_count": 70,
     "metadata": {},
     "output_type": "execute_result"
    }
   ],
   "source": [
    "df.iloc[0]"
   ]
  },
  {
   "cell_type": "code",
   "execution_count": null,
   "id": "d62901e7",
   "metadata": {},
   "outputs": [
    {
     "data": {
      "text/html": [
       "<div>\n",
       "<style scoped>\n",
       "    .dataframe tbody tr th:only-of-type {\n",
       "        vertical-align: middle;\n",
       "    }\n",
       "\n",
       "    .dataframe tbody tr th {\n",
       "        vertical-align: top;\n",
       "    }\n",
       "\n",
       "    .dataframe thead th {\n",
       "        text-align: right;\n",
       "    }\n",
       "</style>\n",
       "<table border=\"1\" class=\"dataframe\">\n",
       "  <thead>\n",
       "    <tr style=\"text-align: right;\">\n",
       "      <th></th>\n",
       "      <th>Make</th>\n",
       "      <th>Model</th>\n",
       "      <th>Year</th>\n",
       "      <th>Engine HP</th>\n",
       "      <th>Engine Cylinders</th>\n",
       "      <th>Transmission Type</th>\n",
       "      <th>Vehicle_Style</th>\n",
       "      <th>MSRP</th>\n",
       "    </tr>\n",
       "  </thead>\n",
       "  <tbody>\n",
       "    <tr>\n",
       "      <th>2</th>\n",
       "      <td>Lotus</td>\n",
       "      <td>Elise</td>\n",
       "      <td>2010</td>\n",
       "      <td>218.0</td>\n",
       "      <td>4</td>\n",
       "      <td>MANUAL</td>\n",
       "      <td>convertible</td>\n",
       "      <td>54990</td>\n",
       "    </tr>\n",
       "    <tr>\n",
       "      <th>3</th>\n",
       "      <td>GMC</td>\n",
       "      <td>Acadia</td>\n",
       "      <td>2017</td>\n",
       "      <td>194.0</td>\n",
       "      <td>4</td>\n",
       "      <td>AUTOMATIC</td>\n",
       "      <td>4dr SUV</td>\n",
       "      <td>34450</td>\n",
       "    </tr>\n",
       "    <tr>\n",
       "      <th>0</th>\n",
       "      <td>Nissan</td>\n",
       "      <td>Stanza</td>\n",
       "      <td>1991</td>\n",
       "      <td>138.0</td>\n",
       "      <td>4</td>\n",
       "      <td>MANUAL</td>\n",
       "      <td>sedan</td>\n",
       "      <td>2000</td>\n",
       "    </tr>\n",
       "  </tbody>\n",
       "</table>\n",
       "</div>"
      ],
      "text/plain": [
       "     Make   Model  Year  Engine HP  Engine Cylinders Transmission Type  \\\n",
       "2   Lotus   Elise  2010      218.0                 4            MANUAL   \n",
       "3     GMC  Acadia  2017      194.0                 4         AUTOMATIC   \n",
       "0  Nissan  Stanza  1991      138.0                 4            MANUAL   \n",
       "\n",
       "  Vehicle_Style   MSRP  \n",
       "2   convertible  54990  \n",
       "3       4dr SUV  34450  \n",
       "0         sedan   2000  "
      ]
     },
     "execution_count": 71,
     "metadata": {},
     "output_type": "execute_result"
    }
   ],
   "source": [
    "df.iloc[[2,3,0]]"
   ]
  },
  {
   "cell_type": "code",
   "execution_count": 72,
   "id": "f0c38403",
   "metadata": {},
   "outputs": [],
   "source": [
    "idx=np.arange(5)"
   ]
  },
  {
   "cell_type": "code",
   "execution_count": null,
   "id": "f868ecfd",
   "metadata": {},
   "outputs": [
    {
     "data": {
      "text/plain": [
       "array([2, 4, 1, 3, 0])"
      ]
     },
     "execution_count": 73,
     "metadata": {},
     "output_type": "execute_result"
    }
   ],
   "source": [
    "np.random.seed(2)\n",
    "np.random.shuffle(idx)\n",
    "idx"
   ]
  },
  {
   "cell_type": "code",
   "execution_count": 74,
   "id": "2addc9a1",
   "metadata": {},
   "outputs": [
    {
     "data": {
      "text/html": [
       "<div>\n",
       "<style scoped>\n",
       "    .dataframe tbody tr th:only-of-type {\n",
       "        vertical-align: middle;\n",
       "    }\n",
       "\n",
       "    .dataframe tbody tr th {\n",
       "        vertical-align: top;\n",
       "    }\n",
       "\n",
       "    .dataframe thead th {\n",
       "        text-align: right;\n",
       "    }\n",
       "</style>\n",
       "<table border=\"1\" class=\"dataframe\">\n",
       "  <thead>\n",
       "    <tr style=\"text-align: right;\">\n",
       "      <th></th>\n",
       "      <th>Make</th>\n",
       "      <th>Model</th>\n",
       "      <th>Year</th>\n",
       "      <th>Engine HP</th>\n",
       "      <th>Engine Cylinders</th>\n",
       "      <th>Transmission Type</th>\n",
       "      <th>Vehicle_Style</th>\n",
       "      <th>MSRP</th>\n",
       "    </tr>\n",
       "  </thead>\n",
       "  <tbody>\n",
       "    <tr>\n",
       "      <th>2</th>\n",
       "      <td>Lotus</td>\n",
       "      <td>Elise</td>\n",
       "      <td>2010</td>\n",
       "      <td>218.0</td>\n",
       "      <td>4</td>\n",
       "      <td>MANUAL</td>\n",
       "      <td>convertible</td>\n",
       "      <td>54990</td>\n",
       "    </tr>\n",
       "    <tr>\n",
       "      <th>4</th>\n",
       "      <td>Nissan</td>\n",
       "      <td>Frontier</td>\n",
       "      <td>2017</td>\n",
       "      <td>261.0</td>\n",
       "      <td>6</td>\n",
       "      <td>MANUAL</td>\n",
       "      <td>Pickup</td>\n",
       "      <td>32340</td>\n",
       "    </tr>\n",
       "    <tr>\n",
       "      <th>1</th>\n",
       "      <td>Hyundai</td>\n",
       "      <td>Sonata</td>\n",
       "      <td>2017</td>\n",
       "      <td>NaN</td>\n",
       "      <td>4</td>\n",
       "      <td>AUTOMATIC</td>\n",
       "      <td>Sedan</td>\n",
       "      <td>27150</td>\n",
       "    </tr>\n",
       "    <tr>\n",
       "      <th>3</th>\n",
       "      <td>GMC</td>\n",
       "      <td>Acadia</td>\n",
       "      <td>2017</td>\n",
       "      <td>194.0</td>\n",
       "      <td>4</td>\n",
       "      <td>AUTOMATIC</td>\n",
       "      <td>4dr SUV</td>\n",
       "      <td>34450</td>\n",
       "    </tr>\n",
       "    <tr>\n",
       "      <th>0</th>\n",
       "      <td>Nissan</td>\n",
       "      <td>Stanza</td>\n",
       "      <td>1991</td>\n",
       "      <td>138.0</td>\n",
       "      <td>4</td>\n",
       "      <td>MANUAL</td>\n",
       "      <td>sedan</td>\n",
       "      <td>2000</td>\n",
       "    </tr>\n",
       "  </tbody>\n",
       "</table>\n",
       "</div>"
      ],
      "text/plain": [
       "      Make     Model  Year  Engine HP  Engine Cylinders Transmission Type  \\\n",
       "2    Lotus     Elise  2010      218.0                 4            MANUAL   \n",
       "4   Nissan  Frontier  2017      261.0                 6            MANUAL   \n",
       "1  Hyundai    Sonata  2017        NaN                 4         AUTOMATIC   \n",
       "3      GMC    Acadia  2017      194.0                 4         AUTOMATIC   \n",
       "0   Nissan    Stanza  1991      138.0                 4            MANUAL   \n",
       "\n",
       "  Vehicle_Style   MSRP  \n",
       "2   convertible  54990  \n",
       "4        Pickup  32340  \n",
       "1         Sedan  27150  \n",
       "3       4dr SUV  34450  \n",
       "0         sedan   2000  "
      ]
     },
     "execution_count": 74,
     "metadata": {},
     "output_type": "execute_result"
    }
   ],
   "source": [
    "df.iloc[idx]"
   ]
  },
  {
   "cell_type": "code",
   "execution_count": 75,
   "id": "8220c9e7",
   "metadata": {},
   "outputs": [],
   "source": [
    "df=df.iloc[idx]"
   ]
  },
  {
   "cell_type": "code",
   "execution_count": null,
   "id": "c0a37f61",
   "metadata": {},
   "outputs": [
    {
     "data": {
      "text/html": [
       "<div>\n",
       "<style scoped>\n",
       "    .dataframe tbody tr th:only-of-type {\n",
       "        vertical-align: middle;\n",
       "    }\n",
       "\n",
       "    .dataframe tbody tr th {\n",
       "        vertical-align: top;\n",
       "    }\n",
       "\n",
       "    .dataframe thead th {\n",
       "        text-align: right;\n",
       "    }\n",
       "</style>\n",
       "<table border=\"1\" class=\"dataframe\">\n",
       "  <thead>\n",
       "    <tr style=\"text-align: right;\">\n",
       "      <th></th>\n",
       "      <th>Make</th>\n",
       "      <th>Model</th>\n",
       "      <th>Year</th>\n",
       "      <th>Engine HP</th>\n",
       "      <th>Engine Cylinders</th>\n",
       "      <th>Transmission Type</th>\n",
       "      <th>Vehicle_Style</th>\n",
       "      <th>MSRP</th>\n",
       "    </tr>\n",
       "  </thead>\n",
       "  <tbody>\n",
       "    <tr>\n",
       "      <th>2</th>\n",
       "      <td>Lotus</td>\n",
       "      <td>Elise</td>\n",
       "      <td>2010</td>\n",
       "      <td>218.0</td>\n",
       "      <td>4</td>\n",
       "      <td>MANUAL</td>\n",
       "      <td>convertible</td>\n",
       "      <td>54990</td>\n",
       "    </tr>\n",
       "    <tr>\n",
       "      <th>4</th>\n",
       "      <td>Nissan</td>\n",
       "      <td>Frontier</td>\n",
       "      <td>2017</td>\n",
       "      <td>261.0</td>\n",
       "      <td>6</td>\n",
       "      <td>MANUAL</td>\n",
       "      <td>Pickup</td>\n",
       "      <td>32340</td>\n",
       "    </tr>\n",
       "    <tr>\n",
       "      <th>1</th>\n",
       "      <td>Hyundai</td>\n",
       "      <td>Sonata</td>\n",
       "      <td>2017</td>\n",
       "      <td>NaN</td>\n",
       "      <td>4</td>\n",
       "      <td>AUTOMATIC</td>\n",
       "      <td>Sedan</td>\n",
       "      <td>27150</td>\n",
       "    </tr>\n",
       "    <tr>\n",
       "      <th>3</th>\n",
       "      <td>GMC</td>\n",
       "      <td>Acadia</td>\n",
       "      <td>2017</td>\n",
       "      <td>194.0</td>\n",
       "      <td>4</td>\n",
       "      <td>AUTOMATIC</td>\n",
       "      <td>4dr SUV</td>\n",
       "      <td>34450</td>\n",
       "    </tr>\n",
       "    <tr>\n",
       "      <th>0</th>\n",
       "      <td>Nissan</td>\n",
       "      <td>Stanza</td>\n",
       "      <td>1991</td>\n",
       "      <td>138.0</td>\n",
       "      <td>4</td>\n",
       "      <td>MANUAL</td>\n",
       "      <td>sedan</td>\n",
       "      <td>2000</td>\n",
       "    </tr>\n",
       "  </tbody>\n",
       "</table>\n",
       "</div>"
      ],
      "text/plain": [
       "      Make     Model  Year  Engine HP  Engine Cylinders Transmission Type  \\\n",
       "2    Lotus     Elise  2010      218.0                 4            MANUAL   \n",
       "4   Nissan  Frontier  2017      261.0                 6            MANUAL   \n",
       "1  Hyundai    Sonata  2017        NaN                 4         AUTOMATIC   \n",
       "3      GMC    Acadia  2017      194.0                 4         AUTOMATIC   \n",
       "0   Nissan    Stanza  1991      138.0                 4            MANUAL   \n",
       "\n",
       "  Vehicle_Style   MSRP  \n",
       "2   convertible  54990  \n",
       "4        Pickup  32340  \n",
       "1         Sedan  27150  \n",
       "3       4dr SUV  34450  \n",
       "0         sedan   2000  "
      ]
     },
     "execution_count": 76,
     "metadata": {},
     "output_type": "execute_result"
    }
   ],
   "source": [
    "df"
   ]
  },
  {
   "cell_type": "code",
   "execution_count": null,
   "id": "4b145e0f",
   "metadata": {},
   "outputs": [
    {
     "data": {
      "text/html": [
       "<div>\n",
       "<style scoped>\n",
       "    .dataframe tbody tr th:only-of-type {\n",
       "        vertical-align: middle;\n",
       "    }\n",
       "\n",
       "    .dataframe tbody tr th {\n",
       "        vertical-align: top;\n",
       "    }\n",
       "\n",
       "    .dataframe thead th {\n",
       "        text-align: right;\n",
       "    }\n",
       "</style>\n",
       "<table border=\"1\" class=\"dataframe\">\n",
       "  <thead>\n",
       "    <tr style=\"text-align: right;\">\n",
       "      <th></th>\n",
       "      <th>Make</th>\n",
       "      <th>Model</th>\n",
       "      <th>Year</th>\n",
       "      <th>Engine HP</th>\n",
       "      <th>Engine Cylinders</th>\n",
       "      <th>Transmission Type</th>\n",
       "      <th>Vehicle_Style</th>\n",
       "      <th>MSRP</th>\n",
       "    </tr>\n",
       "  </thead>\n",
       "  <tbody>\n",
       "    <tr>\n",
       "      <th>2</th>\n",
       "      <td>Lotus</td>\n",
       "      <td>Elise</td>\n",
       "      <td>2010</td>\n",
       "      <td>218.0</td>\n",
       "      <td>4</td>\n",
       "      <td>MANUAL</td>\n",
       "      <td>convertible</td>\n",
       "      <td>54990</td>\n",
       "    </tr>\n",
       "    <tr>\n",
       "      <th>4</th>\n",
       "      <td>Nissan</td>\n",
       "      <td>Frontier</td>\n",
       "      <td>2017</td>\n",
       "      <td>261.0</td>\n",
       "      <td>6</td>\n",
       "      <td>MANUAL</td>\n",
       "      <td>Pickup</td>\n",
       "      <td>32340</td>\n",
       "    </tr>\n",
       "    <tr>\n",
       "      <th>1</th>\n",
       "      <td>Hyundai</td>\n",
       "      <td>Sonata</td>\n",
       "      <td>2017</td>\n",
       "      <td>NaN</td>\n",
       "      <td>4</td>\n",
       "      <td>AUTOMATIC</td>\n",
       "      <td>Sedan</td>\n",
       "      <td>27150</td>\n",
       "    </tr>\n",
       "  </tbody>\n",
       "</table>\n",
       "</div>"
      ],
      "text/plain": [
       "      Make     Model  Year  Engine HP  Engine Cylinders Transmission Type  \\\n",
       "2    Lotus     Elise  2010      218.0                 4            MANUAL   \n",
       "4   Nissan  Frontier  2017      261.0                 6            MANUAL   \n",
       "1  Hyundai    Sonata  2017        NaN                 4         AUTOMATIC   \n",
       "\n",
       "  Vehicle_Style   MSRP  \n",
       "2   convertible  54990  \n",
       "4        Pickup  32340  \n",
       "1         Sedan  27150  "
      ]
     },
     "execution_count": 77,
     "metadata": {},
     "output_type": "execute_result"
    }
   ],
   "source": [
    "df.iloc[[0,1,2]]"
   ]
  },
  {
   "cell_type": "code",
   "execution_count": 78,
   "id": "03940053",
   "metadata": {},
   "outputs": [
    {
     "data": {
      "text/plain": [
       "Index([2, 4, 1, 3, 0], dtype='int64')"
      ]
     },
     "execution_count": 78,
     "metadata": {},
     "output_type": "execute_result"
    }
   ],
   "source": [
    "df.index"
   ]
  },
  {
   "cell_type": "code",
   "execution_count": 79,
   "id": "4b489c80",
   "metadata": {},
   "outputs": [
    {
     "data": {
      "text/html": [
       "<div>\n",
       "<style scoped>\n",
       "    .dataframe tbody tr th:only-of-type {\n",
       "        vertical-align: middle;\n",
       "    }\n",
       "\n",
       "    .dataframe tbody tr th {\n",
       "        vertical-align: top;\n",
       "    }\n",
       "\n",
       "    .dataframe thead th {\n",
       "        text-align: right;\n",
       "    }\n",
       "</style>\n",
       "<table border=\"1\" class=\"dataframe\">\n",
       "  <thead>\n",
       "    <tr style=\"text-align: right;\">\n",
       "      <th></th>\n",
       "      <th>Make</th>\n",
       "      <th>Model</th>\n",
       "      <th>Year</th>\n",
       "      <th>Engine HP</th>\n",
       "      <th>Engine Cylinders</th>\n",
       "      <th>Transmission Type</th>\n",
       "      <th>Vehicle_Style</th>\n",
       "      <th>MSRP</th>\n",
       "    </tr>\n",
       "  </thead>\n",
       "  <tbody>\n",
       "    <tr>\n",
       "      <th>0</th>\n",
       "      <td>Nissan</td>\n",
       "      <td>Stanza</td>\n",
       "      <td>1991</td>\n",
       "      <td>138.0</td>\n",
       "      <td>4</td>\n",
       "      <td>MANUAL</td>\n",
       "      <td>sedan</td>\n",
       "      <td>2000</td>\n",
       "    </tr>\n",
       "    <tr>\n",
       "      <th>1</th>\n",
       "      <td>Hyundai</td>\n",
       "      <td>Sonata</td>\n",
       "      <td>2017</td>\n",
       "      <td>NaN</td>\n",
       "      <td>4</td>\n",
       "      <td>AUTOMATIC</td>\n",
       "      <td>Sedan</td>\n",
       "      <td>27150</td>\n",
       "    </tr>\n",
       "    <tr>\n",
       "      <th>2</th>\n",
       "      <td>Lotus</td>\n",
       "      <td>Elise</td>\n",
       "      <td>2010</td>\n",
       "      <td>218.0</td>\n",
       "      <td>4</td>\n",
       "      <td>MANUAL</td>\n",
       "      <td>convertible</td>\n",
       "      <td>54990</td>\n",
       "    </tr>\n",
       "  </tbody>\n",
       "</table>\n",
       "</div>"
      ],
      "text/plain": [
       "      Make   Model  Year  Engine HP  Engine Cylinders Transmission Type  \\\n",
       "0   Nissan  Stanza  1991      138.0                 4            MANUAL   \n",
       "1  Hyundai  Sonata  2017        NaN                 4         AUTOMATIC   \n",
       "2    Lotus   Elise  2010      218.0                 4            MANUAL   \n",
       "\n",
       "  Vehicle_Style   MSRP  \n",
       "0         sedan   2000  \n",
       "1         Sedan  27150  \n",
       "2   convertible  54990  "
      ]
     },
     "execution_count": 79,
     "metadata": {},
     "output_type": "execute_result"
    }
   ],
   "source": [
    "df.loc[[0,1,2]]"
   ]
  },
  {
   "cell_type": "code",
   "execution_count": null,
   "id": "8bbb28ad",
   "metadata": {},
   "outputs": [
    {
     "data": {
      "text/html": [
       "<div>\n",
       "<style scoped>\n",
       "    .dataframe tbody tr th:only-of-type {\n",
       "        vertical-align: middle;\n",
       "    }\n",
       "\n",
       "    .dataframe tbody tr th {\n",
       "        vertical-align: top;\n",
       "    }\n",
       "\n",
       "    .dataframe thead th {\n",
       "        text-align: right;\n",
       "    }\n",
       "</style>\n",
       "<table border=\"1\" class=\"dataframe\">\n",
       "  <thead>\n",
       "    <tr style=\"text-align: right;\">\n",
       "      <th></th>\n",
       "      <th>Make</th>\n",
       "      <th>Model</th>\n",
       "      <th>Year</th>\n",
       "      <th>Engine HP</th>\n",
       "      <th>Engine Cylinders</th>\n",
       "      <th>Transmission Type</th>\n",
       "      <th>Vehicle_Style</th>\n",
       "      <th>MSRP</th>\n",
       "    </tr>\n",
       "  </thead>\n",
       "  <tbody>\n",
       "    <tr>\n",
       "      <th>0</th>\n",
       "      <td>Lotus</td>\n",
       "      <td>Elise</td>\n",
       "      <td>2010</td>\n",
       "      <td>218.0</td>\n",
       "      <td>4</td>\n",
       "      <td>MANUAL</td>\n",
       "      <td>convertible</td>\n",
       "      <td>54990</td>\n",
       "    </tr>\n",
       "    <tr>\n",
       "      <th>1</th>\n",
       "      <td>Nissan</td>\n",
       "      <td>Frontier</td>\n",
       "      <td>2017</td>\n",
       "      <td>261.0</td>\n",
       "      <td>6</td>\n",
       "      <td>MANUAL</td>\n",
       "      <td>Pickup</td>\n",
       "      <td>32340</td>\n",
       "    </tr>\n",
       "    <tr>\n",
       "      <th>2</th>\n",
       "      <td>Hyundai</td>\n",
       "      <td>Sonata</td>\n",
       "      <td>2017</td>\n",
       "      <td>NaN</td>\n",
       "      <td>4</td>\n",
       "      <td>AUTOMATIC</td>\n",
       "      <td>Sedan</td>\n",
       "      <td>27150</td>\n",
       "    </tr>\n",
       "    <tr>\n",
       "      <th>3</th>\n",
       "      <td>GMC</td>\n",
       "      <td>Acadia</td>\n",
       "      <td>2017</td>\n",
       "      <td>194.0</td>\n",
       "      <td>4</td>\n",
       "      <td>AUTOMATIC</td>\n",
       "      <td>4dr SUV</td>\n",
       "      <td>34450</td>\n",
       "    </tr>\n",
       "    <tr>\n",
       "      <th>4</th>\n",
       "      <td>Nissan</td>\n",
       "      <td>Stanza</td>\n",
       "      <td>1991</td>\n",
       "      <td>138.0</td>\n",
       "      <td>4</td>\n",
       "      <td>MANUAL</td>\n",
       "      <td>sedan</td>\n",
       "      <td>2000</td>\n",
       "    </tr>\n",
       "  </tbody>\n",
       "</table>\n",
       "</div>"
      ],
      "text/plain": [
       "      Make     Model  Year  Engine HP  Engine Cylinders Transmission Type  \\\n",
       "0    Lotus     Elise  2010      218.0                 4            MANUAL   \n",
       "1   Nissan  Frontier  2017      261.0                 6            MANUAL   \n",
       "2  Hyundai    Sonata  2017        NaN                 4         AUTOMATIC   \n",
       "3      GMC    Acadia  2017      194.0                 4         AUTOMATIC   \n",
       "4   Nissan    Stanza  1991      138.0                 4            MANUAL   \n",
       "\n",
       "  Vehicle_Style   MSRP  \n",
       "0   convertible  54990  \n",
       "1        Pickup  32340  \n",
       "2         Sedan  27150  \n",
       "3       4dr SUV  34450  \n",
       "4         sedan   2000  "
      ]
     },
     "execution_count": 80,
     "metadata": {},
     "output_type": "execute_result"
    }
   ],
   "source": [
    "df.reset_index(drop=True)"
   ]
  },
  {
   "cell_type": "code",
   "execution_count": 81,
   "id": "fd8f6032",
   "metadata": {},
   "outputs": [
    {
     "data": {
      "text/html": [
       "<div>\n",
       "<style scoped>\n",
       "    .dataframe tbody tr th:only-of-type {\n",
       "        vertical-align: middle;\n",
       "    }\n",
       "\n",
       "    .dataframe tbody tr th {\n",
       "        vertical-align: top;\n",
       "    }\n",
       "\n",
       "    .dataframe thead th {\n",
       "        text-align: right;\n",
       "    }\n",
       "</style>\n",
       "<table border=\"1\" class=\"dataframe\">\n",
       "  <thead>\n",
       "    <tr style=\"text-align: right;\">\n",
       "      <th></th>\n",
       "      <th>Make</th>\n",
       "      <th>Model</th>\n",
       "      <th>Year</th>\n",
       "      <th>Engine HP</th>\n",
       "      <th>Engine Cylinders</th>\n",
       "      <th>Transmission Type</th>\n",
       "      <th>Vehicle_Style</th>\n",
       "      <th>MSRP</th>\n",
       "    </tr>\n",
       "  </thead>\n",
       "  <tbody>\n",
       "    <tr>\n",
       "      <th>2</th>\n",
       "      <td>Lotus</td>\n",
       "      <td>Elise</td>\n",
       "      <td>2010</td>\n",
       "      <td>218.0</td>\n",
       "      <td>4</td>\n",
       "      <td>MANUAL</td>\n",
       "      <td>convertible</td>\n",
       "      <td>54990</td>\n",
       "    </tr>\n",
       "    <tr>\n",
       "      <th>4</th>\n",
       "      <td>Nissan</td>\n",
       "      <td>Frontier</td>\n",
       "      <td>2017</td>\n",
       "      <td>261.0</td>\n",
       "      <td>6</td>\n",
       "      <td>MANUAL</td>\n",
       "      <td>Pickup</td>\n",
       "      <td>32340</td>\n",
       "    </tr>\n",
       "    <tr>\n",
       "      <th>1</th>\n",
       "      <td>Hyundai</td>\n",
       "      <td>Sonata</td>\n",
       "      <td>2017</td>\n",
       "      <td>NaN</td>\n",
       "      <td>4</td>\n",
       "      <td>AUTOMATIC</td>\n",
       "      <td>Sedan</td>\n",
       "      <td>27150</td>\n",
       "    </tr>\n",
       "    <tr>\n",
       "      <th>3</th>\n",
       "      <td>GMC</td>\n",
       "      <td>Acadia</td>\n",
       "      <td>2017</td>\n",
       "      <td>194.0</td>\n",
       "      <td>4</td>\n",
       "      <td>AUTOMATIC</td>\n",
       "      <td>4dr SUV</td>\n",
       "      <td>34450</td>\n",
       "    </tr>\n",
       "    <tr>\n",
       "      <th>0</th>\n",
       "      <td>Nissan</td>\n",
       "      <td>Stanza</td>\n",
       "      <td>1991</td>\n",
       "      <td>138.0</td>\n",
       "      <td>4</td>\n",
       "      <td>MANUAL</td>\n",
       "      <td>sedan</td>\n",
       "      <td>2000</td>\n",
       "    </tr>\n",
       "  </tbody>\n",
       "</table>\n",
       "</div>"
      ],
      "text/plain": [
       "      Make     Model  Year  Engine HP  Engine Cylinders Transmission Type  \\\n",
       "2    Lotus     Elise  2010      218.0                 4            MANUAL   \n",
       "4   Nissan  Frontier  2017      261.0                 6            MANUAL   \n",
       "1  Hyundai    Sonata  2017        NaN                 4         AUTOMATIC   \n",
       "3      GMC    Acadia  2017      194.0                 4         AUTOMATIC   \n",
       "0   Nissan    Stanza  1991      138.0                 4            MANUAL   \n",
       "\n",
       "  Vehicle_Style   MSRP  \n",
       "2   convertible  54990  \n",
       "4        Pickup  32340  \n",
       "1         Sedan  27150  \n",
       "3       4dr SUV  34450  \n",
       "0         sedan   2000  "
      ]
     },
     "execution_count": 81,
     "metadata": {},
     "output_type": "execute_result"
    }
   ],
   "source": [
    "df"
   ]
  },
  {
   "cell_type": "markdown",
   "id": "d2922a14",
   "metadata": {},
   "source": [
    "# String Operations"
   ]
  },
  {
   "cell_type": "code",
   "execution_count": 82,
   "id": "c12bf676",
   "metadata": {},
   "outputs": [
    {
     "data": {
      "text/plain": [
       "2    convertible\n",
       "4         Pickup\n",
       "1          Sedan\n",
       "3        4dr SUV\n",
       "0          sedan\n",
       "Name: Vehicle_Style, dtype: object"
      ]
     },
     "execution_count": 82,
     "metadata": {},
     "output_type": "execute_result"
    }
   ],
   "source": [
    "df['Vehicle_Style']"
   ]
  },
  {
   "cell_type": "code",
   "execution_count": 83,
   "id": "e5deb98b",
   "metadata": {},
   "outputs": [],
   "source": [
    "df.Vehicle_Style.str.lower().inplace=True"
   ]
  },
  {
   "cell_type": "code",
   "execution_count": 84,
   "id": "006cf9ce",
   "metadata": {},
   "outputs": [
    {
     "data": {
      "text/plain": [
       "2    convertible\n",
       "4         Pickup\n",
       "1          Sedan\n",
       "3        4dr SUV\n",
       "0          sedan\n",
       "Name: Vehicle_Style, dtype: object"
      ]
     },
     "execution_count": 84,
     "metadata": {},
     "output_type": "execute_result"
    }
   ],
   "source": [
    "df.Vehicle_Style"
   ]
  },
  {
   "cell_type": "code",
   "execution_count": 85,
   "id": "f62839af",
   "metadata": {},
   "outputs": [
    {
     "data": {
      "text/plain": [
       "2    convertible\n",
       "4         pickup\n",
       "1          sedan\n",
       "3        4dr_suv\n",
       "0          sedan\n",
       "Name: Vehicle_Style, dtype: object"
      ]
     },
     "execution_count": 85,
     "metadata": {},
     "output_type": "execute_result"
    }
   ],
   "source": [
    "df['Vehicle_Style'].str.lower().str.replace(' ','_')"
   ]
  },
  {
   "cell_type": "code",
   "execution_count": 86,
   "id": "42ac5d77",
   "metadata": {},
   "outputs": [
    {
     "data": {
      "text/plain": [
       "Index(['Make', 'Model', 'Year', 'Engine HP', 'Engine Cylinders',\n",
       "       'Transmission Type', 'Vehicle_Style', 'MSRP'],\n",
       "      dtype='object')"
      ]
     },
     "execution_count": 86,
     "metadata": {},
     "output_type": "execute_result"
    }
   ],
   "source": [
    "df.columns"
   ]
  },
  {
   "cell_type": "code",
   "execution_count": 87,
   "id": "197cd3a8",
   "metadata": {},
   "outputs": [],
   "source": [
    "df.columns= df.columns.str.lower().str.replace(' ','_')"
   ]
  },
  {
   "cell_type": "code",
   "execution_count": 88,
   "id": "65bc67d3",
   "metadata": {},
   "outputs": [
    {
     "data": {
      "text/plain": [
       "Index(['make', 'model', 'year', 'engine_hp', 'engine_cylinders',\n",
       "       'transmission_type', 'vehicle_style', 'msrp'],\n",
       "      dtype='object')"
      ]
     },
     "execution_count": 88,
     "metadata": {},
     "output_type": "execute_result"
    }
   ],
   "source": [
    "df.columns"
   ]
  },
  {
   "cell_type": "code",
   "execution_count": null,
   "id": "ae642d0c",
   "metadata": {},
   "outputs": [
    {
     "data": {
      "text/html": [
       "<div>\n",
       "<style scoped>\n",
       "    .dataframe tbody tr th:only-of-type {\n",
       "        vertical-align: middle;\n",
       "    }\n",
       "\n",
       "    .dataframe tbody tr th {\n",
       "        vertical-align: top;\n",
       "    }\n",
       "\n",
       "    .dataframe thead th {\n",
       "        text-align: right;\n",
       "    }\n",
       "</style>\n",
       "<table border=\"1\" class=\"dataframe\">\n",
       "  <thead>\n",
       "    <tr style=\"text-align: right;\">\n",
       "      <th></th>\n",
       "      <th>make</th>\n",
       "      <th>model</th>\n",
       "      <th>year</th>\n",
       "      <th>engine_hp</th>\n",
       "      <th>engine_cylinders</th>\n",
       "      <th>transmission_type</th>\n",
       "      <th>vehicle_style</th>\n",
       "      <th>msrp</th>\n",
       "    </tr>\n",
       "  </thead>\n",
       "  <tbody>\n",
       "    <tr>\n",
       "      <th>2</th>\n",
       "      <td>Lotus</td>\n",
       "      <td>Elise</td>\n",
       "      <td>2010</td>\n",
       "      <td>218.0</td>\n",
       "      <td>4</td>\n",
       "      <td>MANUAL</td>\n",
       "      <td>convertible</td>\n",
       "      <td>54990</td>\n",
       "    </tr>\n",
       "    <tr>\n",
       "      <th>4</th>\n",
       "      <td>Nissan</td>\n",
       "      <td>Frontier</td>\n",
       "      <td>2017</td>\n",
       "      <td>261.0</td>\n",
       "      <td>6</td>\n",
       "      <td>MANUAL</td>\n",
       "      <td>Pickup</td>\n",
       "      <td>32340</td>\n",
       "    </tr>\n",
       "    <tr>\n",
       "      <th>1</th>\n",
       "      <td>Hyundai</td>\n",
       "      <td>Sonata</td>\n",
       "      <td>2017</td>\n",
       "      <td>NaN</td>\n",
       "      <td>4</td>\n",
       "      <td>AUTOMATIC</td>\n",
       "      <td>Sedan</td>\n",
       "      <td>27150</td>\n",
       "    </tr>\n",
       "    <tr>\n",
       "      <th>3</th>\n",
       "      <td>GMC</td>\n",
       "      <td>Acadia</td>\n",
       "      <td>2017</td>\n",
       "      <td>194.0</td>\n",
       "      <td>4</td>\n",
       "      <td>AUTOMATIC</td>\n",
       "      <td>4dr SUV</td>\n",
       "      <td>34450</td>\n",
       "    </tr>\n",
       "    <tr>\n",
       "      <th>0</th>\n",
       "      <td>Nissan</td>\n",
       "      <td>Stanza</td>\n",
       "      <td>1991</td>\n",
       "      <td>138.0</td>\n",
       "      <td>4</td>\n",
       "      <td>MANUAL</td>\n",
       "      <td>sedan</td>\n",
       "      <td>2000</td>\n",
       "    </tr>\n",
       "  </tbody>\n",
       "</table>\n",
       "</div>"
      ],
      "text/plain": [
       "      make     model  year  engine_hp  engine_cylinders transmission_type  \\\n",
       "2    Lotus     Elise  2010      218.0                 4            MANUAL   \n",
       "4   Nissan  Frontier  2017      261.0                 6            MANUAL   \n",
       "1  Hyundai    Sonata  2017        NaN                 4         AUTOMATIC   \n",
       "3      GMC    Acadia  2017      194.0                 4         AUTOMATIC   \n",
       "0   Nissan    Stanza  1991      138.0                 4            MANUAL   \n",
       "\n",
       "  vehicle_style   msrp  \n",
       "2   convertible  54990  \n",
       "4        Pickup  32340  \n",
       "1         Sedan  27150  \n",
       "3       4dr SUV  34450  \n",
       "0         sedan   2000  "
      ]
     },
     "execution_count": 89,
     "metadata": {},
     "output_type": "execute_result"
    }
   ],
   "source": [
    "df"
   ]
  },
  {
   "cell_type": "code",
   "execution_count": 90,
   "id": "51ca2765",
   "metadata": {},
   "outputs": [
    {
     "data": {
      "text/plain": [
       "make                  object\n",
       "model                 object\n",
       "year                   int64\n",
       "engine_hp            float64\n",
       "engine_cylinders       int64\n",
       "transmission_type     object\n",
       "vehicle_style         object\n",
       "msrp                   int64\n",
       "dtype: object"
      ]
     },
     "execution_count": 90,
     "metadata": {},
     "output_type": "execute_result"
    }
   ],
   "source": [
    "df.dtypes"
   ]
  },
  {
   "cell_type": "code",
   "execution_count": 91,
   "id": "12a0b2aa",
   "metadata": {},
   "outputs": [
    {
     "data": {
      "text/plain": [
       "Index(['make', 'model', 'year', 'engine_hp', 'engine_cylinders',\n",
       "       'transmission_type', 'vehicle_style', 'msrp'],\n",
       "      dtype='object')"
      ]
     },
     "execution_count": 91,
     "metadata": {},
     "output_type": "execute_result"
    }
   ],
   "source": [
    "df.dtypes.index"
   ]
  },
  {
   "cell_type": "code",
   "execution_count": 92,
   "id": "1b587aea",
   "metadata": {},
   "outputs": [
    {
     "data": {
      "text/plain": [
       "make                 object\n",
       "model                object\n",
       "transmission_type    object\n",
       "vehicle_style        object\n",
       "dtype: object"
      ]
     },
     "execution_count": 92,
     "metadata": {},
     "output_type": "execute_result"
    }
   ],
   "source": [
    "df.dtypes[df.dtypes=='object']"
   ]
  },
  {
   "cell_type": "code",
   "execution_count": 93,
   "id": "85be5a7e",
   "metadata": {},
   "outputs": [],
   "source": [
    "w=list(df.dtypes[df.dtypes=='object'].index)"
   ]
  },
  {
   "cell_type": "code",
   "execution_count": 94,
   "id": "a71715be",
   "metadata": {},
   "outputs": [
    {
     "data": {
      "text/plain": [
       "['make', 'model', 'transmission_type', 'vehicle_style']"
      ]
     },
     "execution_count": 94,
     "metadata": {},
     "output_type": "execute_result"
    }
   ],
   "source": [
    "w"
   ]
  },
  {
   "cell_type": "code",
   "execution_count": 95,
   "id": "af51b9ba",
   "metadata": {},
   "outputs": [],
   "source": [
    "string_columns = df.dtypes[df.dtypes=='object'].index"
   ]
  },
  {
   "cell_type": "code",
   "execution_count": 96,
   "id": "a1f953cf",
   "metadata": {},
   "outputs": [],
   "source": [
    "for col in string_columns:\n",
    "    df[col]=df[col].str.lower().str.replace(' ','_')\n"
   ]
  },
  {
   "cell_type": "code",
   "execution_count": 97,
   "id": "e8d61a13",
   "metadata": {},
   "outputs": [
    {
     "data": {
      "text/html": [
       "<div>\n",
       "<style scoped>\n",
       "    .dataframe tbody tr th:only-of-type {\n",
       "        vertical-align: middle;\n",
       "    }\n",
       "\n",
       "    .dataframe tbody tr th {\n",
       "        vertical-align: top;\n",
       "    }\n",
       "\n",
       "    .dataframe thead th {\n",
       "        text-align: right;\n",
       "    }\n",
       "</style>\n",
       "<table border=\"1\" class=\"dataframe\">\n",
       "  <thead>\n",
       "    <tr style=\"text-align: right;\">\n",
       "      <th></th>\n",
       "      <th>make</th>\n",
       "      <th>model</th>\n",
       "      <th>year</th>\n",
       "      <th>engine_hp</th>\n",
       "      <th>engine_cylinders</th>\n",
       "      <th>transmission_type</th>\n",
       "      <th>vehicle_style</th>\n",
       "      <th>msrp</th>\n",
       "    </tr>\n",
       "  </thead>\n",
       "  <tbody>\n",
       "    <tr>\n",
       "      <th>2</th>\n",
       "      <td>lotus</td>\n",
       "      <td>elise</td>\n",
       "      <td>2010</td>\n",
       "      <td>218.0</td>\n",
       "      <td>4</td>\n",
       "      <td>manual</td>\n",
       "      <td>convertible</td>\n",
       "      <td>54990</td>\n",
       "    </tr>\n",
       "    <tr>\n",
       "      <th>4</th>\n",
       "      <td>nissan</td>\n",
       "      <td>frontier</td>\n",
       "      <td>2017</td>\n",
       "      <td>261.0</td>\n",
       "      <td>6</td>\n",
       "      <td>manual</td>\n",
       "      <td>pickup</td>\n",
       "      <td>32340</td>\n",
       "    </tr>\n",
       "    <tr>\n",
       "      <th>1</th>\n",
       "      <td>hyundai</td>\n",
       "      <td>sonata</td>\n",
       "      <td>2017</td>\n",
       "      <td>NaN</td>\n",
       "      <td>4</td>\n",
       "      <td>automatic</td>\n",
       "      <td>sedan</td>\n",
       "      <td>27150</td>\n",
       "    </tr>\n",
       "    <tr>\n",
       "      <th>3</th>\n",
       "      <td>gmc</td>\n",
       "      <td>acadia</td>\n",
       "      <td>2017</td>\n",
       "      <td>194.0</td>\n",
       "      <td>4</td>\n",
       "      <td>automatic</td>\n",
       "      <td>4dr_suv</td>\n",
       "      <td>34450</td>\n",
       "    </tr>\n",
       "    <tr>\n",
       "      <th>0</th>\n",
       "      <td>nissan</td>\n",
       "      <td>stanza</td>\n",
       "      <td>1991</td>\n",
       "      <td>138.0</td>\n",
       "      <td>4</td>\n",
       "      <td>manual</td>\n",
       "      <td>sedan</td>\n",
       "      <td>2000</td>\n",
       "    </tr>\n",
       "  </tbody>\n",
       "</table>\n",
       "</div>"
      ],
      "text/plain": [
       "      make     model  year  engine_hp  engine_cylinders transmission_type  \\\n",
       "2    lotus     elise  2010      218.0                 4            manual   \n",
       "4   nissan  frontier  2017      261.0                 6            manual   \n",
       "1  hyundai    sonata  2017        NaN                 4         automatic   \n",
       "3      gmc    acadia  2017      194.0                 4         automatic   \n",
       "0   nissan    stanza  1991      138.0                 4            manual   \n",
       "\n",
       "  vehicle_style   msrp  \n",
       "2   convertible  54990  \n",
       "4        pickup  32340  \n",
       "1         sedan  27150  \n",
       "3       4dr_suv  34450  \n",
       "0         sedan   2000  "
      ]
     },
     "execution_count": 97,
     "metadata": {},
     "output_type": "execute_result"
    }
   ],
   "source": [
    "df"
   ]
  },
  {
   "cell_type": "markdown",
   "id": "91836141",
   "metadata": {},
   "source": [
    "# Summarizing Operations EDA"
   ]
  },
  {
   "cell_type": "code",
   "execution_count": 98,
   "id": "27a5d776",
   "metadata": {},
   "outputs": [
    {
     "data": {
      "text/plain": [
       "2    54990\n",
       "4    32340\n",
       "1    27150\n",
       "3    34450\n",
       "0     2000\n",
       "Name: msrp, dtype: int64"
      ]
     },
     "execution_count": 98,
     "metadata": {},
     "output_type": "execute_result"
    }
   ],
   "source": [
    "df.msrp"
   ]
  },
  {
   "cell_type": "code",
   "execution_count": 99,
   "id": "9b25da51",
   "metadata": {},
   "outputs": [
    {
     "data": {
      "text/plain": [
       "np.float64(30186.0)"
      ]
     },
     "execution_count": 99,
     "metadata": {},
     "output_type": "execute_result"
    }
   ],
   "source": [
    "df.msrp.mean()"
   ]
  },
  {
   "cell_type": "code",
   "execution_count": 100,
   "id": "43734ccd",
   "metadata": {},
   "outputs": [
    {
     "data": {
      "text/plain": [
       "np.int64(150930)"
      ]
     },
     "execution_count": 100,
     "metadata": {},
     "output_type": "execute_result"
    }
   ],
   "source": [
    "df.msrp.sum()"
   ]
  },
  {
   "cell_type": "code",
   "execution_count": 101,
   "id": "b6f0d375",
   "metadata": {},
   "outputs": [
    {
     "data": {
      "text/plain": [
       "(np.int64(2000),\n",
       " np.int64(54990),\n",
       " np.float64(30186.0),\n",
       " np.float64(18985.044903818372))"
      ]
     },
     "execution_count": 101,
     "metadata": {},
     "output_type": "execute_result"
    }
   ],
   "source": [
    "df.msrp.min(), df.msrp.max(), df.msrp.mean(), df.msrp.std()"
   ]
  },
  {
   "cell_type": "code",
   "execution_count": 102,
   "id": "a3bfb441",
   "metadata": {},
   "outputs": [
    {
     "data": {
      "text/plain": [
       "count        5.000000\n",
       "mean     30186.000000\n",
       "std      18985.044904\n",
       "min       2000.000000\n",
       "25%      27150.000000\n",
       "50%      32340.000000\n",
       "75%      34450.000000\n",
       "max      54990.000000\n",
       "Name: msrp, dtype: float64"
      ]
     },
     "execution_count": 102,
     "metadata": {},
     "output_type": "execute_result"
    }
   ],
   "source": [
    "df.msrp.describe()"
   ]
  },
  {
   "cell_type": "code",
   "execution_count": null,
   "id": "334c810f",
   "metadata": {},
   "outputs": [
    {
     "data": {
      "text/html": [
       "<div>\n",
       "<style scoped>\n",
       "    .dataframe tbody tr th:only-of-type {\n",
       "        vertical-align: middle;\n",
       "    }\n",
       "\n",
       "    .dataframe tbody tr th {\n",
       "        vertical-align: top;\n",
       "    }\n",
       "\n",
       "    .dataframe thead th {\n",
       "        text-align: right;\n",
       "    }\n",
       "</style>\n",
       "<table border=\"1\" class=\"dataframe\">\n",
       "  <thead>\n",
       "    <tr style=\"text-align: right;\">\n",
       "      <th></th>\n",
       "      <th>year</th>\n",
       "      <th>engine_hp</th>\n",
       "      <th>engine_cylinders</th>\n",
       "      <th>msrp</th>\n",
       "    </tr>\n",
       "  </thead>\n",
       "  <tbody>\n",
       "    <tr>\n",
       "      <th>count</th>\n",
       "      <td>5.00</td>\n",
       "      <td>4.00</td>\n",
       "      <td>5.00</td>\n",
       "      <td>5.00</td>\n",
       "    </tr>\n",
       "    <tr>\n",
       "      <th>mean</th>\n",
       "      <td>2010.40</td>\n",
       "      <td>202.75</td>\n",
       "      <td>4.40</td>\n",
       "      <td>30186.00</td>\n",
       "    </tr>\n",
       "    <tr>\n",
       "      <th>std</th>\n",
       "      <td>11.26</td>\n",
       "      <td>51.30</td>\n",
       "      <td>0.89</td>\n",
       "      <td>18985.04</td>\n",
       "    </tr>\n",
       "    <tr>\n",
       "      <th>min</th>\n",
       "      <td>1991.00</td>\n",
       "      <td>138.00</td>\n",
       "      <td>4.00</td>\n",
       "      <td>2000.00</td>\n",
       "    </tr>\n",
       "    <tr>\n",
       "      <th>25%</th>\n",
       "      <td>2010.00</td>\n",
       "      <td>180.00</td>\n",
       "      <td>4.00</td>\n",
       "      <td>27150.00</td>\n",
       "    </tr>\n",
       "    <tr>\n",
       "      <th>50%</th>\n",
       "      <td>2017.00</td>\n",
       "      <td>206.00</td>\n",
       "      <td>4.00</td>\n",
       "      <td>32340.00</td>\n",
       "    </tr>\n",
       "    <tr>\n",
       "      <th>75%</th>\n",
       "      <td>2017.00</td>\n",
       "      <td>228.75</td>\n",
       "      <td>4.00</td>\n",
       "      <td>34450.00</td>\n",
       "    </tr>\n",
       "    <tr>\n",
       "      <th>max</th>\n",
       "      <td>2017.00</td>\n",
       "      <td>261.00</td>\n",
       "      <td>6.00</td>\n",
       "      <td>54990.00</td>\n",
       "    </tr>\n",
       "  </tbody>\n",
       "</table>\n",
       "</div>"
      ],
      "text/plain": [
       "          year  engine_hp  engine_cylinders      msrp\n",
       "count     5.00       4.00              5.00      5.00\n",
       "mean   2010.40     202.75              4.40  30186.00\n",
       "std      11.26      51.30              0.89  18985.04\n",
       "min    1991.00     138.00              4.00   2000.00\n",
       "25%    2010.00     180.00              4.00  27150.00\n",
       "50%    2017.00     206.00              4.00  32340.00\n",
       "75%    2017.00     228.75              4.00  34450.00\n",
       "max    2017.00     261.00              6.00  54990.00"
      ]
     },
     "execution_count": 104,
     "metadata": {},
     "output_type": "execute_result"
    }
   ],
   "source": [
    "df.describe().round(2)"
   ]
  },
  {
   "cell_type": "code",
   "execution_count": 105,
   "id": "261bd190",
   "metadata": {},
   "outputs": [
    {
     "data": {
      "text/plain": [
       "4"
      ]
     },
     "execution_count": 105,
     "metadata": {},
     "output_type": "execute_result"
    }
   ],
   "source": [
    "df.make.nunique()"
   ]
  },
  {
   "cell_type": "code",
   "execution_count": 106,
   "id": "8d658567",
   "metadata": {},
   "outputs": [
    {
     "data": {
      "text/plain": [
       "make\n",
       "nissan     2\n",
       "lotus      1\n",
       "hyundai    1\n",
       "gmc        1\n",
       "Name: count, dtype: int64"
      ]
     },
     "execution_count": 106,
     "metadata": {},
     "output_type": "execute_result"
    }
   ],
   "source": [
    "df.make.value_counts(sort=True)"
   ]
  },
  {
   "cell_type": "code",
   "execution_count": 107,
   "id": "7f49d301",
   "metadata": {},
   "outputs": [
    {
     "data": {
      "text/plain": [
       "make                 0\n",
       "model                0\n",
       "year                 0\n",
       "engine_hp            1\n",
       "engine_cylinders     0\n",
       "transmission_type    0\n",
       "vehicle_style        0\n",
       "msrp                 0\n",
       "dtype: int64"
      ]
     },
     "execution_count": 107,
     "metadata": {},
     "output_type": "execute_result"
    }
   ],
   "source": [
    "df.isnull().sum()"
   ]
  },
  {
   "cell_type": "code",
   "execution_count": 108,
   "id": "7414df50",
   "metadata": {},
   "outputs": [
    {
     "data": {
      "text/plain": [
       "2    False\n",
       "4    False\n",
       "1     True\n",
       "3    False\n",
       "0    False\n",
       "Name: engine_hp, dtype: bool"
      ]
     },
     "execution_count": 108,
     "metadata": {},
     "output_type": "execute_result"
    }
   ],
   "source": [
    "df.engine_hp.isnull()"
   ]
  },
  {
   "cell_type": "code",
   "execution_count": 109,
   "id": "498c3e85",
   "metadata": {},
   "outputs": [
    {
     "data": {
      "text/plain": [
       "2    218.0\n",
       "4    261.0\n",
       "1      0.0\n",
       "3    194.0\n",
       "0    138.0\n",
       "Name: engine_hp, dtype: float64"
      ]
     },
     "execution_count": 109,
     "metadata": {},
     "output_type": "execute_result"
    }
   ],
   "source": [
    "df.engine_hp.fillna(0)"
   ]
  },
  {
   "cell_type": "code",
   "execution_count": 110,
   "id": "764e13dd",
   "metadata": {},
   "outputs": [
    {
     "data": {
      "text/plain": [
       "2    218.00\n",
       "4    261.00\n",
       "1    202.75\n",
       "3    194.00\n",
       "0    138.00\n",
       "Name: engine_hp, dtype: float64"
      ]
     },
     "execution_count": 110,
     "metadata": {},
     "output_type": "execute_result"
    }
   ],
   "source": [
    "df.engine_hp.fillna(df.engine_hp.mean())"
   ]
  },
  {
   "cell_type": "code",
   "execution_count": 111,
   "id": "7a636c42",
   "metadata": {},
   "outputs": [],
   "source": [
    "df.reset_index(inplace=True,drop=True)"
   ]
  },
  {
   "cell_type": "code",
   "execution_count": 114,
   "id": "c1859d83",
   "metadata": {},
   "outputs": [
    {
     "data": {
      "text/html": [
       "<div>\n",
       "<style scoped>\n",
       "    .dataframe tbody tr th:only-of-type {\n",
       "        vertical-align: middle;\n",
       "    }\n",
       "\n",
       "    .dataframe tbody tr th {\n",
       "        vertical-align: top;\n",
       "    }\n",
       "\n",
       "    .dataframe thead th {\n",
       "        text-align: right;\n",
       "    }\n",
       "</style>\n",
       "<table border=\"1\" class=\"dataframe\">\n",
       "  <thead>\n",
       "    <tr style=\"text-align: right;\">\n",
       "      <th></th>\n",
       "      <th>make</th>\n",
       "      <th>model</th>\n",
       "      <th>year</th>\n",
       "      <th>engine_hp</th>\n",
       "      <th>engine_cylinders</th>\n",
       "      <th>transmission_type</th>\n",
       "      <th>vehicle_style</th>\n",
       "      <th>msrp</th>\n",
       "    </tr>\n",
       "  </thead>\n",
       "  <tbody>\n",
       "    <tr>\n",
       "      <th>0</th>\n",
       "      <td>lotus</td>\n",
       "      <td>elise</td>\n",
       "      <td>2010</td>\n",
       "      <td>218.0</td>\n",
       "      <td>4</td>\n",
       "      <td>manual</td>\n",
       "      <td>convertible</td>\n",
       "      <td>54990</td>\n",
       "    </tr>\n",
       "    <tr>\n",
       "      <th>1</th>\n",
       "      <td>nissan</td>\n",
       "      <td>frontier</td>\n",
       "      <td>2017</td>\n",
       "      <td>261.0</td>\n",
       "      <td>6</td>\n",
       "      <td>manual</td>\n",
       "      <td>pickup</td>\n",
       "      <td>32340</td>\n",
       "    </tr>\n",
       "    <tr>\n",
       "      <th>2</th>\n",
       "      <td>hyundai</td>\n",
       "      <td>sonata</td>\n",
       "      <td>2017</td>\n",
       "      <td>NaN</td>\n",
       "      <td>4</td>\n",
       "      <td>automatic</td>\n",
       "      <td>sedan</td>\n",
       "      <td>27150</td>\n",
       "    </tr>\n",
       "    <tr>\n",
       "      <th>3</th>\n",
       "      <td>gmc</td>\n",
       "      <td>acadia</td>\n",
       "      <td>2017</td>\n",
       "      <td>194.0</td>\n",
       "      <td>4</td>\n",
       "      <td>automatic</td>\n",
       "      <td>4dr_suv</td>\n",
       "      <td>34450</td>\n",
       "    </tr>\n",
       "    <tr>\n",
       "      <th>4</th>\n",
       "      <td>nissan</td>\n",
       "      <td>stanza</td>\n",
       "      <td>1991</td>\n",
       "      <td>138.0</td>\n",
       "      <td>4</td>\n",
       "      <td>manual</td>\n",
       "      <td>sedan</td>\n",
       "      <td>2000</td>\n",
       "    </tr>\n",
       "  </tbody>\n",
       "</table>\n",
       "</div>"
      ],
      "text/plain": [
       "      make     model  year  engine_hp  engine_cylinders transmission_type  \\\n",
       "0    lotus     elise  2010      218.0                 4            manual   \n",
       "1   nissan  frontier  2017      261.0                 6            manual   \n",
       "2  hyundai    sonata  2017        NaN                 4         automatic   \n",
       "3      gmc    acadia  2017      194.0                 4         automatic   \n",
       "4   nissan    stanza  1991      138.0                 4            manual   \n",
       "\n",
       "  vehicle_style   msrp  \n",
       "0   convertible  54990  \n",
       "1        pickup  32340  \n",
       "2         sedan  27150  \n",
       "3       4dr_suv  34450  \n",
       "4         sedan   2000  "
      ]
     },
     "execution_count": 114,
     "metadata": {},
     "output_type": "execute_result"
    }
   ],
   "source": [
    "df"
   ]
  },
  {
   "cell_type": "code",
   "execution_count": 116,
   "id": "3ca83617",
   "metadata": {},
   "outputs": [
    {
     "data": {
      "text/html": [
       "<div>\n",
       "<style scoped>\n",
       "    .dataframe tbody tr th:only-of-type {\n",
       "        vertical-align: middle;\n",
       "    }\n",
       "\n",
       "    .dataframe tbody tr th {\n",
       "        vertical-align: top;\n",
       "    }\n",
       "\n",
       "    .dataframe thead th {\n",
       "        text-align: right;\n",
       "    }\n",
       "</style>\n",
       "<table border=\"1\" class=\"dataframe\">\n",
       "  <thead>\n",
       "    <tr style=\"text-align: right;\">\n",
       "      <th></th>\n",
       "      <th>make</th>\n",
       "      <th>model</th>\n",
       "      <th>year</th>\n",
       "      <th>engine_hp</th>\n",
       "      <th>engine_cylinders</th>\n",
       "      <th>transmission_type</th>\n",
       "      <th>vehicle_style</th>\n",
       "      <th>msrp</th>\n",
       "    </tr>\n",
       "  </thead>\n",
       "  <tbody>\n",
       "    <tr>\n",
       "      <th>0</th>\n",
       "      <td>lotus</td>\n",
       "      <td>elise</td>\n",
       "      <td>2010</td>\n",
       "      <td>218.00</td>\n",
       "      <td>4</td>\n",
       "      <td>manual</td>\n",
       "      <td>convertible</td>\n",
       "      <td>54990</td>\n",
       "    </tr>\n",
       "    <tr>\n",
       "      <th>1</th>\n",
       "      <td>nissan</td>\n",
       "      <td>frontier</td>\n",
       "      <td>2017</td>\n",
       "      <td>261.00</td>\n",
       "      <td>6</td>\n",
       "      <td>manual</td>\n",
       "      <td>pickup</td>\n",
       "      <td>32340</td>\n",
       "    </tr>\n",
       "    <tr>\n",
       "      <th>2</th>\n",
       "      <td>hyundai</td>\n",
       "      <td>sonata</td>\n",
       "      <td>2017</td>\n",
       "      <td>202.75</td>\n",
       "      <td>4</td>\n",
       "      <td>automatic</td>\n",
       "      <td>sedan</td>\n",
       "      <td>27150</td>\n",
       "    </tr>\n",
       "    <tr>\n",
       "      <th>3</th>\n",
       "      <td>gmc</td>\n",
       "      <td>acadia</td>\n",
       "      <td>2017</td>\n",
       "      <td>194.00</td>\n",
       "      <td>4</td>\n",
       "      <td>automatic</td>\n",
       "      <td>4dr_suv</td>\n",
       "      <td>34450</td>\n",
       "    </tr>\n",
       "    <tr>\n",
       "      <th>4</th>\n",
       "      <td>nissan</td>\n",
       "      <td>stanza</td>\n",
       "      <td>1991</td>\n",
       "      <td>138.00</td>\n",
       "      <td>4</td>\n",
       "      <td>manual</td>\n",
       "      <td>sedan</td>\n",
       "      <td>2000</td>\n",
       "    </tr>\n",
       "  </tbody>\n",
       "</table>\n",
       "</div>"
      ],
      "text/plain": [
       "      make     model  year  engine_hp  engine_cylinders transmission_type  \\\n",
       "0    lotus     elise  2010     218.00                 4            manual   \n",
       "1   nissan  frontier  2017     261.00                 6            manual   \n",
       "2  hyundai    sonata  2017     202.75                 4         automatic   \n",
       "3      gmc    acadia  2017     194.00                 4         automatic   \n",
       "4   nissan    stanza  1991     138.00                 4            manual   \n",
       "\n",
       "  vehicle_style   msrp  \n",
       "0   convertible  54990  \n",
       "1        pickup  32340  \n",
       "2         sedan  27150  \n",
       "3       4dr_suv  34450  \n",
       "4         sedan   2000  "
      ]
     },
     "execution_count": 116,
     "metadata": {},
     "output_type": "execute_result"
    }
   ],
   "source": [
    "df.engine_hp = df.engine_hp.fillna(df.engine_hp.mean())\n",
    "df"
   ]
  },
  {
   "cell_type": "code",
   "execution_count": 117,
   "id": "0c6a3df9",
   "metadata": {},
   "outputs": [
    {
     "data": {
      "text/html": [
       "<div>\n",
       "<style scoped>\n",
       "    .dataframe tbody tr th:only-of-type {\n",
       "        vertical-align: middle;\n",
       "    }\n",
       "\n",
       "    .dataframe tbody tr th {\n",
       "        vertical-align: top;\n",
       "    }\n",
       "\n",
       "    .dataframe thead th {\n",
       "        text-align: right;\n",
       "    }\n",
       "</style>\n",
       "<table border=\"1\" class=\"dataframe\">\n",
       "  <thead>\n",
       "    <tr style=\"text-align: right;\">\n",
       "      <th></th>\n",
       "      <th>make</th>\n",
       "      <th>model</th>\n",
       "      <th>year</th>\n",
       "      <th>engine_hp</th>\n",
       "      <th>engine_cylinders</th>\n",
       "      <th>transmission_type</th>\n",
       "      <th>vehicle_style</th>\n",
       "      <th>msrp</th>\n",
       "    </tr>\n",
       "  </thead>\n",
       "  <tbody>\n",
       "    <tr>\n",
       "      <th>0</th>\n",
       "      <td>lotus</td>\n",
       "      <td>elise</td>\n",
       "      <td>2010</td>\n",
       "      <td>218.00</td>\n",
       "      <td>4</td>\n",
       "      <td>manual</td>\n",
       "      <td>convertible</td>\n",
       "      <td>54990</td>\n",
       "    </tr>\n",
       "    <tr>\n",
       "      <th>1</th>\n",
       "      <td>nissan</td>\n",
       "      <td>frontier</td>\n",
       "      <td>2017</td>\n",
       "      <td>261.00</td>\n",
       "      <td>6</td>\n",
       "      <td>manual</td>\n",
       "      <td>pickup</td>\n",
       "      <td>32340</td>\n",
       "    </tr>\n",
       "    <tr>\n",
       "      <th>2</th>\n",
       "      <td>hyundai</td>\n",
       "      <td>sonata</td>\n",
       "      <td>2017</td>\n",
       "      <td>202.75</td>\n",
       "      <td>4</td>\n",
       "      <td>automatic</td>\n",
       "      <td>sedan</td>\n",
       "      <td>27150</td>\n",
       "    </tr>\n",
       "    <tr>\n",
       "      <th>3</th>\n",
       "      <td>gmc</td>\n",
       "      <td>acadia</td>\n",
       "      <td>2017</td>\n",
       "      <td>194.00</td>\n",
       "      <td>4</td>\n",
       "      <td>automatic</td>\n",
       "      <td>4dr_suv</td>\n",
       "      <td>34450</td>\n",
       "    </tr>\n",
       "    <tr>\n",
       "      <th>4</th>\n",
       "      <td>nissan</td>\n",
       "      <td>stanza</td>\n",
       "      <td>1991</td>\n",
       "      <td>138.00</td>\n",
       "      <td>4</td>\n",
       "      <td>manual</td>\n",
       "      <td>sedan</td>\n",
       "      <td>2000</td>\n",
       "    </tr>\n",
       "  </tbody>\n",
       "</table>\n",
       "</div>"
      ],
      "text/plain": [
       "      make     model  year  engine_hp  engine_cylinders transmission_type  \\\n",
       "0    lotus     elise  2010     218.00                 4            manual   \n",
       "1   nissan  frontier  2017     261.00                 6            manual   \n",
       "2  hyundai    sonata  2017     202.75                 4         automatic   \n",
       "3      gmc    acadia  2017     194.00                 4         automatic   \n",
       "4   nissan    stanza  1991     138.00                 4            manual   \n",
       "\n",
       "  vehicle_style   msrp  \n",
       "0   convertible  54990  \n",
       "1        pickup  32340  \n",
       "2         sedan  27150  \n",
       "3       4dr_suv  34450  \n",
       "4         sedan   2000  "
      ]
     },
     "execution_count": 117,
     "metadata": {},
     "output_type": "execute_result"
    }
   ],
   "source": [
    "df"
   ]
  },
  {
   "cell_type": "markdown",
   "id": "2e62fd72",
   "metadata": {},
   "source": [
    "Grouping "
   ]
  },
  {
   "cell_type": "markdown",
   "id": "926b1807",
   "metadata": {},
   "source": [
    "- SELECT\n",
    "    tranmission_type,\n",
    "    AVG(msrp)\n",
    "- FROM\n",
    "    cars\n",
    "- GROUP BY\n",
    "    transmission_type"
   ]
  },
  {
   "cell_type": "code",
   "execution_count": 118,
   "id": "9033e76c",
   "metadata": {},
   "outputs": [
    {
     "data": {
      "text/plain": [
       "transmission_type\n",
       "automatic    30800.000000\n",
       "manual       29776.666667\n",
       "Name: msrp, dtype: float64"
      ]
     },
     "execution_count": 118,
     "metadata": {},
     "output_type": "execute_result"
    }
   ],
   "source": [
    "df.groupby('transmission_type').msrp.mean()"
   ]
  },
  {
   "cell_type": "code",
   "execution_count": 119,
   "id": "f9156fa9",
   "metadata": {},
   "outputs": [
    {
     "data": {
      "text/html": [
       "<div>\n",
       "<style scoped>\n",
       "    .dataframe tbody tr th:only-of-type {\n",
       "        vertical-align: middle;\n",
       "    }\n",
       "\n",
       "    .dataframe tbody tr th {\n",
       "        vertical-align: top;\n",
       "    }\n",
       "\n",
       "    .dataframe thead th {\n",
       "        text-align: right;\n",
       "    }\n",
       "</style>\n",
       "<table border=\"1\" class=\"dataframe\">\n",
       "  <thead>\n",
       "    <tr style=\"text-align: right;\">\n",
       "      <th></th>\n",
       "      <th>mean</th>\n",
       "      <th>count</th>\n",
       "    </tr>\n",
       "    <tr>\n",
       "      <th>transmission_type</th>\n",
       "      <th></th>\n",
       "      <th></th>\n",
       "    </tr>\n",
       "  </thead>\n",
       "  <tbody>\n",
       "    <tr>\n",
       "      <th>automatic</th>\n",
       "      <td>30800.000000</td>\n",
       "      <td>2</td>\n",
       "    </tr>\n",
       "    <tr>\n",
       "      <th>manual</th>\n",
       "      <td>29776.666667</td>\n",
       "      <td>3</td>\n",
       "    </tr>\n",
       "  </tbody>\n",
       "</table>\n",
       "</div>"
      ],
      "text/plain": [
       "                           mean  count\n",
       "transmission_type                     \n",
       "automatic          30800.000000      2\n",
       "manual             29776.666667      3"
      ]
     },
     "execution_count": 119,
     "metadata": {},
     "output_type": "execute_result"
    }
   ],
   "source": [
    "df_group=df.groupby('transmission_type').msrp.agg(['mean','count'])\n",
    "df_group"
   ]
  },
  {
   "cell_type": "markdown",
   "id": "0955051a",
   "metadata": {},
   "source": [
    "# Object-Oriented Programming (OOP)"
   ]
  },
  {
   "cell_type": "markdown",
   "id": "34c556ad",
   "metadata": {},
   "source": [
    "Object-Oriented Programming (OOP) is a fundamental concept in Python (and many other programming languages) that helps you organize your code in a way that’s reusable, modular, and easy to understand."
   ]
  },
  {
   "cell_type": "markdown",
   "id": "9d65a52d",
   "metadata": {},
   "source": [
    "OOP focuses on:\n",
    "\n",
    "1. Classes: Blueprints that describe the structure and behavior of objects.\n",
    "2. Objects (Instances): Real-world entities created using class definitions.\n",
    "3. Methods: Functions defined within a class to manipulate data or perform actions.\n",
    "4. Attributes (Fields): Data or properties that describe the object.Data that belongs to a class or object.\n",
    "\n",
    "For example, if you’re building a program for a car, a Car object might have attributes like color, model, and speed, and methods like drive() or brake().\n",
    "\n",
    "\n",
    "- __Principles__:\n",
    "1. Encapsulation: Bundling related properties and behaviors together.\n",
    "2. Inheritance: Reusing and extending existing classes.\n",
    "3. Polymorphism: Using a single interface to represent different data types or classes.\n",
    "4. Abstraction: Hiding complex details and exposing only the necessary parts.\n",
    "By learning OOP, you will be able to write code that is easier to maintain, debug, and extend.\n",
    "\n"
   ]
  },
  {
   "cell_type": "markdown",
   "id": "a6c67109",
   "metadata": {},
   "source": [
    "## 2. Defining a Class and Creating Objects\n",
    "- Class Definition\n",
    "In Python, a class is defined using the class keyword followed by the class name. By convention, class names are written in CamelCase:"
   ]
  },
  {
   "cell_type": "code",
   "execution_count": 120,
   "id": "3fa58417",
   "metadata": {},
   "outputs": [],
   "source": [
    "class Person:\n",
    "    pass"
   ]
  },
  {
   "cell_type": "code",
   "execution_count": 121,
   "id": "663ff894",
   "metadata": {},
   "outputs": [],
   "source": [
    "person1=Person()\n",
    "person1=Person()"
   ]
  },
  {
   "cell_type": "code",
   "execution_count": 122,
   "id": "1f1727c3",
   "metadata": {},
   "outputs": [
    {
     "name": "stdout",
     "output_type": "stream",
     "text": [
      "<class '__main__.Person'>\n"
     ]
    }
   ],
   "source": [
    "print(type(person1))"
   ]
  },
  {
   "cell_type": "markdown",
   "id": "82bbb254",
   "metadata": {},
   "source": [
    "## 3. Adding Attributes and Methods\n",
    "\n",
    "3.1 The \"__ __init__ __\" Method (Constructor)\n",
    "In Python, the __init__ method initializes an object’s attributes when it is created. It is often referred to as the constructor, though Python uses this special naming convention:"
   ]
  },
  {
   "cell_type": "code",
   "execution_count": null,
   "id": "b66cc60e",
   "metadata": {},
   "outputs": [],
   "source": []
  },
  {
   "cell_type": "code",
   "execution_count": 123,
   "id": "e26aa291",
   "metadata": {},
   "outputs": [],
   "source": [
    "class Person():\n",
    "    def __init__(self,name,age):\n",
    "        self.name = name #instance attribute\n",
    "        self.age = age   #instance attribute \n",
    "\n",
    "    def greet(self):\n",
    "        print(f\"Hello, my name is {self.name} and I am {self.age} years old.\")\n",
    "\n",
    "     \n"
   ]
  },
  {
   "cell_type": "markdown",
   "id": "b4d20ba9",
   "metadata": {},
   "source": [
    "- def __ __init__ __(self, name, age): The self parameter refers to the current instance of the class.\n",
    "- self.name and self.age: These are instance attributes unique to each created object."
   ]
  },
  {
   "cell_type": "markdown",
   "id": "8a4857bb",
   "metadata": {},
   "source": [
    "## 3.2 Instantiating the Enhanced Class"
   ]
  },
  {
   "cell_type": "code",
   "execution_count": 124,
   "id": "f134bdd1",
   "metadata": {},
   "outputs": [
    {
     "name": "stdout",
     "output_type": "stream",
     "text": [
      "Hello, my name is ade and I am 30 years old.\n",
      "Hello, my name is Uche and I am 25 years old.\n"
     ]
    }
   ],
   "source": [
    "person1=Person('ade',30)\n",
    "person2=Person('Uche',25)\n",
    "\n",
    "person1.greet()\n",
    "person2.greet()"
   ]
  },
  {
   "cell_type": "markdown",
   "id": "99cad052",
   "metadata": {},
   "source": [
    "Here, person1 and person2 have different name and age values, demonstrating how each object can maintain its own data."
   ]
  },
  {
   "cell_type": "code",
   "execution_count": 125,
   "id": "d1bafee4",
   "metadata": {},
   "outputs": [],
   "source": [
    "class Dog:\n",
    "    #CLass attribute (shared by all instance of the class)\n",
    "    species=\"Canis familiaris\"\n",
    "    \n",
    "    def __init__(self, name, age):\n",
    "        # instance attribute unique to each object\n",
    "        self.name = name \n",
    "        self.age = age\n",
    "    \n",
    "    # instance method (a function that belongs to the object)\n",
    "    def bark(self):\n",
    "        return f\"{self.name} says woof!\"\n",
    "    \n",
    "    def get_info(self):\n",
    "        return f\"{self.name} is {self.age} years old and is a {self.species}.\"\n"
   ]
  },
  {
   "cell_type": "code",
   "execution_count": 126,
   "id": "4d6c9045",
   "metadata": {},
   "outputs": [
    {
     "name": "stdout",
     "output_type": "stream",
     "text": [
      "Buddy\n",
      "Canis familiaris\n",
      "Buddy says woof!\n",
      "Max is 5 years old and is a Canis familiaris.\n"
     ]
    }
   ],
   "source": [
    "dog1=Dog(\"Buddy\",3)\n",
    "dog2=Dog(\"Max\",5)\n",
    "\n",
    "print(dog1.name)\n",
    "print(dog2.species)\n",
    "print(dog1.bark())\n",
    "print(dog2.get_info())"
   ]
  },
  {
   "cell_type": "markdown",
   "id": "c194f6b9",
   "metadata": {},
   "source": [
    "## 4. Class Attributes vs. Instance Attributes\n",
    "- Instance attributes: Defined inside the __init__ method using self.attribute_name. They are unique to each instance.\n",
    "\n",
    "- Class attributes: Defined directly in the class body, shared across all instances."
   ]
  },
  {
   "cell_type": "code",
   "execution_count": 127,
   "id": "bec48490",
   "metadata": {},
   "outputs": [],
   "source": [
    "class Person:\n",
    "    species=\"Homo sapien\"\n",
    "\n",
    "    def __init__(self, name, age):\n",
    "        self.name = name # instance attribute unique to each object\n",
    "        self.age =age  #instance attribute unique to each object\n",
    "\n",
    "    def greet (self):\n",
    "        print (f\"Hello, my name is {self.name}.\")\n",
    "\n",
    "    def profile (self):\n",
    "        return f\"This is {self.name} and he is a {self.species} and is {self.age} years old.\"\n",
    "    "
   ]
  },
  {
   "cell_type": "code",
   "execution_count": 128,
   "id": "cfe83595",
   "metadata": {},
   "outputs": [
    {
     "name": "stdout",
     "output_type": "stream",
     "text": [
      "30\n",
      "Pauline\n",
      "This is Pauline and he is a Homo sapien and is 45 years old.\n",
      "Hello, my name is Audu.\n",
      "None\n"
     ]
    }
   ],
   "source": [
    "person1=Person(\"Audu\",30)\n",
    "person2=Person(\"Pauline\",45)\n",
    "\n",
    "print(person1.age)\n",
    "print(person2.name)\n",
    "print(person2.profile())\n",
    "print(person1.greet())"
   ]
  },
  {
   "cell_type": "markdown",
   "id": "deb59c21",
   "metadata": {},
   "source": [
    "## Encapsulation\n",
    "Encapsulation means hiding the internal details of how an object works. In Python, we use private attributes (prefixed with _ or _ _) to restrict direct access."
   ]
  },
  {
   "cell_type": "code",
   "execution_count": 141,
   "id": "49cf3127",
   "metadata": {},
   "outputs": [
    {
     "name": "stdout",
     "output_type": "stream",
     "text": [
      "You have deposited $5000, your new balance is $5500\n",
      "You withdrew $3000, your new balance is 2500. Thank you \n"
     ]
    }
   ],
   "source": [
    "class BankAcoount:\n",
    "    def __init__(self, owner, balance=500):\n",
    "        self.owner=owner\n",
    "        self.__balance=balance #private attribute\n",
    "\n",
    "    def deposit(self,amount):\n",
    "        if amount > 0:\n",
    "            self.__balance += amount\n",
    "            return f\"You have deposited ${amount}, your new balance is ${self.__balance}\"\n",
    "        else:\n",
    "            return f\"Invalid amount.\"\n",
    "        \n",
    "    def withdrawal(self,amount):\n",
    "        if 0 < amount < self.__balance:\n",
    "            self.__balance -=amount\n",
    "            return f\"You withdrew ${amount}, your new balance is {self.__balance}. Thank you \"\n",
    "        else:\n",
    "            return f\"Insufficient funds\"\n",
    "        \n",
    "    def get_balance(self):\n",
    "        return f\"Balance: ${self.__balance}\"\n",
    "    \n",
    "#create an object\n",
    "account=BankAcoount(\"Alice\")\n",
    "\n",
    "print(account.deposit(5000))\n",
    "\n",
    "print(account.withdrawal(3000))\n",
    "        \n",
    "        "
   ]
  },
  {
   "cell_type": "code",
   "execution_count": 142,
   "id": "82ad2c26",
   "metadata": {},
   "outputs": [
    {
     "data": {
      "text/plain": [
       "'Balance: $2500'"
      ]
     },
     "execution_count": 142,
     "metadata": {},
     "output_type": "execute_result"
    }
   ],
   "source": [
    "account.get_balance()"
   ]
  },
  {
   "cell_type": "code",
   "execution_count": 148,
   "id": "c1e7a25b",
   "metadata": {},
   "outputs": [
    {
     "ename": "AttributeError",
     "evalue": "'BankAcoount' object has no attribute '__balance'",
     "output_type": "error",
     "traceback": [
      "\u001b[0;31m---------------------------------------------------------------------------\u001b[0m",
      "\u001b[0;31mAttributeError\u001b[0m                            Traceback (most recent call last)",
      "Cell \u001b[0;32mIn[148], line 1\u001b[0m\n\u001b[0;32m----> 1\u001b[0m \u001b[38;5;28mprint\u001b[39m(\u001b[43maccount\u001b[49m\u001b[38;5;241;43m.\u001b[39;49m\u001b[43m__balance\u001b[49m)\n",
      "\u001b[0;31mAttributeError\u001b[0m: 'BankAcoount' object has no attribute '__balance'"
     ]
    }
   ],
   "source": [
    "print(account.__balance)"
   ]
  },
  {
   "cell_type": "markdown",
   "id": "447eab8d",
   "metadata": {},
   "source": [
    "\n",
    "# 5. Inheritance\n",
    "- Concept of Inheritance\n",
    "\n",
    "Inheritance allows one class (called the child or subclass) to inherit attributes and methods from another class (called the parent or superclass). The child class can reuse, extend, or override the parent class functionality.\n",
    "\n",
    "- Example:\n",
    "\n",
    "Suppose we have a Vehicle class as a parent class. We can create a Car class that inherits from Vehicle."
   ]
  },
  {
   "cell_type": "code",
   "execution_count": 3,
   "id": "3868530e",
   "metadata": {},
   "outputs": [
    {
     "name": "stdout",
     "output_type": "stream",
     "text": [
      "Toyota\n",
      "Camry\n"
     ]
    }
   ],
   "source": [
    "class Vehicle:\n",
    "    def __init__(self,brand,model):\n",
    "        self.brand=brand\n",
    "        self.model=model\n",
    "\n",
    "    def start_engine(self):\n",
    "        print(f'{self.brand} {self.model} start engine.')\n",
    "\n",
    "class Car(Vehicle):\n",
    "    def __init__(self,brand,model,num_doors):\n",
    "        #use super() to call the parent class's __init__ method\n",
    "        super().__init__(brand,model)\n",
    "        self.num_doors=num_doors\n",
    "\n",
    "    def open_trunk(self):\n",
    "        print(f'opening the trunk of the {self.brand} {self.model}')\n",
    "\n",
    "\n",
    "\n",
    "#create an object of the car class\n",
    "my_car=Car(\"Toyota\",\"Camry\",4)\n",
    "\n",
    "print(my_car.brand)\n",
    "print(my_car.model)\n"
   ]
  },
  {
   "cell_type": "code",
   "execution_count": 4,
   "id": "1f2bfb3e",
   "metadata": {},
   "outputs": [
    {
     "name": "stdout",
     "output_type": "stream",
     "text": [
      "opening the trunk of the Toyota Camry\n"
     ]
    }
   ],
   "source": [
    "my_car.open_trunk()"
   ]
  },
  {
   "cell_type": "code",
   "execution_count": 5,
   "id": "47805820",
   "metadata": {},
   "outputs": [
    {
     "data": {
      "text/plain": [
       "4"
      ]
     },
     "execution_count": 5,
     "metadata": {},
     "output_type": "execute_result"
    }
   ],
   "source": [
    "my_car.num_doors"
   ]
  },
  {
   "cell_type": "markdown",
   "id": "609187fd",
   "metadata": {},
   "source": [
    "### Example 2"
   ]
  },
  {
   "cell_type": "code",
   "execution_count": 6,
   "id": "617855c5",
   "metadata": {},
   "outputs": [
    {
     "name": "stdout",
     "output_type": "stream",
     "text": [
      "Generic Animal\n",
      "Generic Animal makes a sound.\n",
      "Whisker says meow\n"
     ]
    }
   ],
   "source": [
    "# Parent Class\n",
    "class Animal:\n",
    "    def __init__(self,name):\n",
    "        self.name= name \n",
    "\n",
    "    def speak(self):\n",
    "        return f'{self.name} makes a sound.'\n",
    "    \n",
    "#child class\n",
    "class Cat(Animal):\n",
    "    def speak(self):\n",
    "        return f\"{self.name} says meow\"\n",
    "    \n",
    "\n",
    "#create objects\n",
    "\n",
    "animal=Animal(\"Generic Animal\")\n",
    "cat=Cat(\"Whisker\")\n",
    "\n",
    "print(animal.name)\n",
    "print(animal.speak())\n",
    "print(cat.speak())"
   ]
  },
  {
   "cell_type": "markdown",
   "id": "639b35bf",
   "metadata": {},
   "source": [
    "## Method Overriding\n",
    "When you want a child class to have a different implementation of a method that already exists in the parent class, you override it by redefining the method under the same name. For instance, if a Car needs a specific engine start procedure, we can override the start_engine method:"
   ]
  },
  {
   "cell_type": "code",
   "execution_count": 15,
   "id": "5fbc5b09",
   "metadata": {},
   "outputs": [
    {
     "name": "stdout",
     "output_type": "stream",
     "text": [
      "Starting Honda Accord in a special way for cars.\n"
     ]
    }
   ],
   "source": [
    "class Car(Vehicle):\n",
    "    def __init__(self,brand,model,num_doors):\n",
    "        super().__init__(brand,model)\n",
    "        self.num_doors =num_doors\n",
    "\n",
    "    def start_engine(self):\n",
    "        return (f\"Starting {self.brand} {self.model} in a special way for cars.\")\n",
    "\n",
    "    def open_trunk(self):\n",
    "        print(f\"Opening the trunk of the {self.brand} {self.model}\")\n",
    "\n",
    "\n",
    "my_new_car=Car(\"Honda\",\"Accord\",4)\n",
    "print(my_new_car.start_engine())"
   ]
  },
  {
   "cell_type": "markdown",
   "id": "e9ca4b8e",
   "metadata": {},
   "source": [
    "## Polymorphism\n",
    "Polymorphism enables you to call the same method name on different objects, and each object will respond in a way appropriate to its class. Suppose we have a set of different classes that share a method called start_engine:"
   ]
  },
  {
   "cell_type": "code",
   "execution_count": 16,
   "id": "7f14efd4",
   "metadata": {},
   "outputs": [
    {
     "name": "stdout",
     "output_type": "stream",
     "text": [
      "Starting Toyota Camry in a special way for cars.\n",
      "Harley-Davidson street 750 motorcycle engine roars to life\n"
     ]
    }
   ],
   "source": [
    "class Motorcycle(Vehicle):\n",
    "    def start_engine(self):\n",
    "        return f\"{self.brand} {self.model} motorcycle engine roars to life\"\n",
    "    \n",
    "\n",
    "vehicles= [\n",
    "    Car(\"Toyota\",\"Camry\",4),\n",
    "    Motorcycle(\"Harley-Davidson\",\"street 750\"),\n",
    "]\n",
    "\n",
    "for v in vehicles:\n",
    "    print(v.start_engine())"
   ]
  },
  {
   "cell_type": "markdown",
   "id": "34dc458e",
   "metadata": {},
   "source": [
    "#### Example 2"
   ]
  },
  {
   "cell_type": "code",
   "execution_count": 17,
   "id": "9b19ca42",
   "metadata": {},
   "outputs": [
    {
     "name": "stdout",
     "output_type": "stream",
     "text": [
      "Buddy says woof!\n",
      "Tweety says chirp!\n"
     ]
    }
   ],
   "source": [
    "class Dog (Animal):\n",
    "    def speak(self):\n",
    "        return f\"{self.name} says woof!\"\n",
    "    \n",
    "class Bird(Animal):\n",
    "    def speak(self):\n",
    "        return f\"{self.name} says chirp!\"\n",
    "    \n",
    "#create objects\n",
    "dog=Dog(\"Buddy\")\n",
    "bird=Bird(\"Tweety\")\n",
    "\n",
    "for animal in [dog, bird]:\n",
    "    print(animal.speak())"
   ]
  },
  {
   "cell_type": "markdown",
   "id": "94b275ec",
   "metadata": {},
   "source": [
    "## Putting It All Together: A Comprehensive Example"
   ]
  },
  {
   "cell_type": "code",
   "execution_count": 19,
   "id": "0308e759",
   "metadata": {},
   "outputs": [
    {
     "name": "stdout",
     "output_type": "stream",
     "text": [
      "Added Apple to the cart.\n",
      "Added Bread to the cart.\n",
      "Added Milk to the cart.\n",
      "ShoppingCart with items: Apple ($1.5), Bread ($2.0), Milk ($3.0)\n",
      "Removed Bread from the cart.\n",
      "Checking out. Total cost: $4.50\n"
     ]
    }
   ],
   "source": [
    "class Product:\n",
    "    def __init__(self, name, price):\n",
    "        self.name = name\n",
    "        self.price = price\n",
    "\n",
    "    def __str__(self):\n",
    "        return f\"{self.name} (${self.price})\"\n",
    "\n",
    "\n",
    "class ShoppingCart:\n",
    "    def __init__(self):\n",
    "        self._products = []\n",
    "\n",
    "    def add_product(self, product):\n",
    "        self._products.append(product)\n",
    "        print(f\"Added {product.name} to the cart.\")\n",
    "\n",
    "    def remove_product(self, product_name):\n",
    "        for product in self._products:\n",
    "            if product.name == product_name:\n",
    "                self._products.remove(product)\n",
    "                print(f\"Removed {product_name} from the cart.\")\n",
    "                break\n",
    "        else:\n",
    "            print(f\"Product {product_name} not found in the cart.\")\n",
    "\n",
    "    def calculate_total(self):\n",
    "        return sum([p.price for p in self._products])\n",
    "\n",
    "    def checkout(self):\n",
    "        total_cost = self.calculate_total()\n",
    "        print(f\"Checking out. Total cost: ${total_cost:.2f}\")\n",
    "        # Here, you might process payment or generate an invoice, for example.\n",
    "\n",
    "    def __str__(self):\n",
    "        product_list = \", \".join(str(p) for p in self._products)\n",
    "        return f\"ShoppingCart with items: {product_list}\"\n",
    "\n",
    "\n",
    "# Usage\n",
    "apple = Product(\"Apple\", 1.50)\n",
    "bread = Product(\"Bread\", 2.00)\n",
    "milk = Product(\"Milk\", 3.00)\n",
    "\n",
    "cart = ShoppingCart()\n",
    "cart.add_product(apple)\n",
    "cart.add_product(bread)\n",
    "cart.add_product(milk)\n",
    "\n",
    "print(cart)  # Print cart details\n",
    "cart.remove_product(\"Bread\")\n",
    "cart.checkout()\n"
   ]
  },
  {
   "cell_type": "code",
   "execution_count": 43,
   "id": "3baa78ab",
   "metadata": {},
   "outputs": [
    {
     "name": "stdout",
     "output_type": "stream",
     "text": [
      "Added Apple to the cart\n",
      "Added Bread to the cart\n",
      "Added Milk to the cart\n",
      "shoppingCart with items: Apple - $1.5,Bread - $2.0,Milk - $3.0\n"
     ]
    }
   ],
   "source": [
    "class Product:\n",
    "    def __init__(self,name,price):\n",
    "        self.name=name\n",
    "        self.price=price\n",
    "\n",
    "    def __str__(self):\n",
    "        return f\"{self.name} - ${self.price}\"\n",
    "    \n",
    "class ShoppingCart:\n",
    "    def __init__(self):\n",
    "        self.__products=[]\n",
    "\n",
    "    def add_product(self,product):\n",
    "        self.__products.append(product)\n",
    "        print (f\"Added {product.name} to the cart\")\n",
    "    \n",
    "    def remove_product(self,product):\n",
    "        for p in self.__products:\n",
    "            if p.name== product:\n",
    "                self.__products.remove(p)\n",
    "                print(f\"Removed {product} from the cart\")\n",
    "                break\n",
    "        else:\n",
    "                print(f\"Product {product} not found in the cart\")\n",
    "    \n",
    "    def calculate_total(self):\n",
    "        return sum([p.price for p in self.__products])\n",
    "    \n",
    "    def checkout(self):\n",
    "        total_cost= self.calculate_total()\n",
    "        return f\"checking out. Total cost: ${total_cost:.2f}\"\n",
    "    \n",
    "    def __str__(self):\n",
    "        product_list=','.join(str(p) for p in self.__products)\n",
    "        return f'shoppingCart with items: {product_list}'\n",
    "\n",
    "#usage \n",
    "apple=Product(\"Apple\",1.50)\n",
    "bread=Product(\"Bread\", 2.00)\n",
    "milk=Product(\"Milk\",3.00)\n",
    "\n",
    "cart=ShoppingCart()\n",
    "cart.add_product(apple)\n",
    "cart.add_product(bread)\n",
    "cart.add_product(milk)\n",
    "\n",
    "print(cart)\n",
    "\n",
    "    \n"
   ]
  },
  {
   "cell_type": "code",
   "execution_count": 44,
   "id": "e18c924b",
   "metadata": {},
   "outputs": [
    {
     "name": "stdout",
     "output_type": "stream",
     "text": [
      "Product Milk - $3.0 not found in the cart\n"
     ]
    }
   ],
   "source": [
    "cart.remove_product(milk)"
   ]
  },
  {
   "cell_type": "code",
   "execution_count": 45,
   "id": "a37a9944",
   "metadata": {},
   "outputs": [
    {
     "name": "stdout",
     "output_type": "stream",
     "text": [
      "shoppingCart with items: Apple - $1.5,Bread - $2.0,Milk - $3.0\n"
     ]
    }
   ],
   "source": [
    "print(cart)"
   ]
  },
  {
   "cell_type": "code",
   "execution_count": null,
   "id": "f51378fa",
   "metadata": {},
   "outputs": [],
   "source": []
  }
 ],
 "metadata": {
  "kernelspec": {
   "display_name": "Python 3",
   "language": "python",
   "name": "python3"
  },
  "language_info": {
   "codemirror_mode": {
    "name": "ipython",
    "version": 3
   },
   "file_extension": ".py",
   "mimetype": "text/x-python",
   "name": "python",
   "nbconvert_exporter": "python",
   "pygments_lexer": "ipython3",
   "version": "3.12.1"
  }
 },
 "nbformat": 4,
 "nbformat_minor": 5
}
