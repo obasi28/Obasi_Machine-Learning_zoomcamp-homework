{
 "cells": [
  {
   "cell_type": "code",
   "execution_count": 23,
   "id": "fff90ae6-d1b6-4b1a-bcf7-d980b08c043e",
   "metadata": {},
   "outputs": [],
   "source": [
    "import numpy as np\n"
   ]
  },
  {
   "cell_type": "markdown",
   "id": "d6116d3f-73c4-432a-997e-104853e27cfc",
   "metadata": {},
   "source": [
    "## Creating Arrays with Zeeros, Ones or constants"
   ]
  },
  {
   "cell_type": "code",
   "execution_count": 24,
   "id": "31f18667-8be8-4342-be68-1cd025a2d6b6",
   "metadata": {},
   "outputs": [],
   "source": [
    "zeros_array= np.zeros(10)\n",
    "ones_array=np.ones(10)\n",
    "constant_array=np.full(10,3)"
   ]
  },
  {
   "cell_type": "code",
   "execution_count": 25,
   "id": "59348c20-1aef-4bdb-96b5-b76f29b51f30",
   "metadata": {},
   "outputs": [
    {
     "data": {
      "text/plain": [
       "array([3, 3, 3, 3, 3, 3, 3, 3, 3, 3])"
      ]
     },
     "execution_count": 25,
     "metadata": {},
     "output_type": "execute_result"
    }
   ],
   "source": [
    "constant_array"
   ]
  },
  {
   "cell_type": "code",
   "execution_count": 26,
   "id": "bdacc875-c904-4da8-a6a7-abcef1931ad0",
   "metadata": {},
   "outputs": [
    {
     "data": {
      "text/plain": [
       "array([0., 0., 0., 0., 0., 0., 0., 0., 0., 0.])"
      ]
     },
     "execution_count": 26,
     "metadata": {},
     "output_type": "execute_result"
    }
   ],
   "source": [
    "zeros_array"
   ]
  },
  {
   "cell_type": "code",
   "execution_count": 27,
   "id": "572d4218-5cd2-4efb-ad6d-e4be51da5b3f",
   "metadata": {},
   "outputs": [
    {
     "data": {
      "text/plain": [
       "array([1., 1., 1., 1., 1., 1., 1., 1., 1., 1.])"
      ]
     },
     "execution_count": 27,
     "metadata": {},
     "output_type": "execute_result"
    }
   ],
   "source": [
    "ones_array"
   ]
  },
  {
   "cell_type": "markdown",
   "id": "c4bf880b-c18a-4ce2-bcd7-8d6d66a42b3a",
   "metadata": {},
   "source": [
    "Converting list to arrays "
   ]
  },
  {
   "cell_type": "code",
   "execution_count": 28,
   "id": "141c8154-9b1d-4adb-9d77-a0b45f002ed0",
   "metadata": {},
   "outputs": [],
   "source": [
    "my_list=[2,3,4]\n",
    "array_to_list= np.array(my_list)"
   ]
  },
  {
   "cell_type": "code",
   "execution_count": 29,
   "id": "deed009b-b28b-4ee1-b97d-e6e4eb77bb9d",
   "metadata": {},
   "outputs": [
    {
     "data": {
      "text/plain": [
       "array([2, 3, 4])"
      ]
     },
     "execution_count": 29,
     "metadata": {},
     "output_type": "execute_result"
    }
   ],
   "source": [
    "array_to_list"
   ]
  },
  {
   "cell_type": "markdown",
   "id": "ec4697ec-8436-4acc-bfea-e6e0f1b7002b",
   "metadata": {},
   "source": [
    "#### Generating Ranges of numbers "
   ]
  },
  {
   "cell_type": "code",
   "execution_count": 30,
   "id": "ead0ba56-447d-433e-8aed-1f365c24ea68",
   "metadata": {},
   "outputs": [
    {
     "data": {
      "text/plain": [
       "array([0, 1, 2, 3, 4, 5, 6, 7, 8, 9])"
      ]
     },
     "execution_count": 30,
     "metadata": {},
     "output_type": "execute_result"
    }
   ],
   "source": [
    "range_of_num=np.arange(0,10)\n",
    "range_of_num"
   ]
  },
  {
   "cell_type": "code",
   "execution_count": 31,
   "id": "b993b733-9aec-4fe7-9c1f-d64b9a631aef",
   "metadata": {},
   "outputs": [
    {
     "data": {
      "text/plain": [
       "array([0.        , 0.22222222, 0.44444444, 0.66666667, 0.88888889,\n",
       "       1.11111111, 1.33333333, 1.55555556, 1.77777778, 2.        ])"
      ]
     },
     "execution_count": 31,
     "metadata": {},
     "output_type": "execute_result"
    }
   ],
   "source": [
    "#Creating an array with Linear space \n",
    "\n",
    "linespace_array=np.linspace(0,2,10)\n",
    "linespace_array"
   ]
  },
  {
   "cell_type": "markdown",
   "id": "85ebb934-9f96-4eeb-919f-24400237233c",
   "metadata": {},
   "source": [
    "#### multi dimensional array"
   ]
  },
  {
   "cell_type": "code",
   "execution_count": 32,
   "id": "b49b153a-4814-4373-a807-bd2d868175aa",
   "metadata": {},
   "outputs": [],
   "source": [
    "zero_matrix = np.zeros((10,5))"
   ]
  },
  {
   "cell_type": "code",
   "execution_count": 33,
   "id": "63f83fe3-9fda-4b35-b96d-1da32d3a1c62",
   "metadata": {},
   "outputs": [
    {
     "data": {
      "text/plain": [
       "array([[0., 0., 0., 0., 0.],\n",
       "       [0., 0., 0., 0., 0.],\n",
       "       [0., 0., 0., 0., 0.],\n",
       "       [0., 0., 0., 0., 0.],\n",
       "       [0., 0., 0., 0., 0.],\n",
       "       [0., 0., 0., 0., 0.],\n",
       "       [0., 0., 0., 0., 0.],\n",
       "       [0., 0., 0., 0., 0.],\n",
       "       [0., 0., 0., 0., 0.],\n",
       "       [0., 0., 0., 0., 0.]])"
      ]
     },
     "execution_count": 33,
     "metadata": {},
     "output_type": "execute_result"
    }
   ],
   "source": [
    "zero_matrix"
   ]
  },
  {
   "cell_type": "code",
   "execution_count": 34,
   "id": "0fd1daa9-bf98-4f0a-86ef-eb063f3e220e",
   "metadata": {},
   "outputs": [
    {
     "data": {
      "text/plain": [
       "array([[1., 1., 1., 1., 1., 1., 1., 1.],\n",
       "       [1., 1., 1., 1., 1., 1., 1., 1.],\n",
       "       [1., 1., 1., 1., 1., 1., 1., 1.],\n",
       "       [1., 1., 1., 1., 1., 1., 1., 1.],\n",
       "       [1., 1., 1., 1., 1., 1., 1., 1.]])"
      ]
     },
     "execution_count": 34,
     "metadata": {},
     "output_type": "execute_result"
    }
   ],
   "source": [
    "ones_Matrix=np.ones((5,8))\n",
    "ones_Matrix"
   ]
  },
  {
   "cell_type": "code",
   "execution_count": 35,
   "id": "a4478a08-222e-4f06-829f-be1a41fb0865",
   "metadata": {},
   "outputs": [
    {
     "data": {
      "text/plain": [
       "array([[2, 3, 4],\n",
       "       [4, 5, 6]])"
      ]
     },
     "execution_count": 35,
     "metadata": {},
     "output_type": "execute_result"
    }
   ],
   "source": [
    "arr = np.array([[2, 3, 4], [4, 5, 6]])\n",
    "arr"
   ]
  },
  {
   "cell_type": "code",
   "execution_count": 36,
   "id": "6317dcf0-d05d-4eeb-99fd-c9bf364b8d27",
   "metadata": {},
   "outputs": [
    {
     "data": {
      "text/plain": [
       "array([2, 3, 4])"
      ]
     },
     "execution_count": 36,
     "metadata": {},
     "output_type": "execute_result"
    }
   ],
   "source": [
    "arr[0]"
   ]
  },
  {
   "cell_type": "code",
   "execution_count": 37,
   "id": "2de84d58-f3e1-4f58-aaff-f1c37b7c542f",
   "metadata": {},
   "outputs": [
    {
     "data": {
      "text/plain": [
       "array([3, 5])"
      ]
     },
     "execution_count": 37,
     "metadata": {},
     "output_type": "execute_result"
    }
   ],
   "source": [
    "arr[:,1]"
   ]
  },
  {
   "cell_type": "code",
   "execution_count": 38,
   "id": "f689321f-c936-4a7b-846b-f3e922192150",
   "metadata": {},
   "outputs": [
    {
     "data": {
      "text/plain": [
       "array([4, 5, 6])"
      ]
     },
     "execution_count": 38,
     "metadata": {},
     "output_type": "execute_result"
    }
   ],
   "source": [
    "arr[1,:]"
   ]
  },
  {
   "cell_type": "markdown",
   "id": "60f015f3-f22c-478e-aa5e-48865c469e32",
   "metadata": {},
   "source": [
    "## Generating random arrays "
   ]
  },
  {
   "cell_type": "code",
   "execution_count": 39,
   "id": "6959e0bb-d902-4e27-8466-59a9b1dfb8e5",
   "metadata": {},
   "outputs": [],
   "source": [
    "np.random.seed(2)"
   ]
  },
  {
   "cell_type": "code",
   "execution_count": 40,
   "id": "4bb28123-e380-469a-9968-dccf45a31e8c",
   "metadata": {},
   "outputs": [
    {
     "data": {
      "text/plain": [
       "array([[0.4359949 , 0.02592623],\n",
       "       [0.54966248, 0.43532239],\n",
       "       [0.4203678 , 0.33033482],\n",
       "       [0.20464863, 0.61927097],\n",
       "       [0.29965467, 0.26682728]])"
      ]
     },
     "execution_count": 40,
     "metadata": {},
     "output_type": "execute_result"
    }
   ],
   "source": [
    "random_array=np.random.rand(5,2)  #note that the rand method is used to generate a random decimal number beywen 0 and 1 \n",
    "random_array"
   ]
  },
  {
   "cell_type": "code",
   "execution_count": 41,
   "id": "7d8cf9c5-3ba1-4f93-9fa0-365ab8504546",
   "metadata": {},
   "outputs": [
    {
     "data": {
      "text/plain": [
       "5"
      ]
     },
     "execution_count": 41,
     "metadata": {},
     "output_type": "execute_result"
    }
   ],
   "source": [
    "len(random_array)"
   ]
  },
  {
   "cell_type": "code",
   "execution_count": 42,
   "id": "e90732ba-872b-4251-939d-e53969c703c3",
   "metadata": {},
   "outputs": [],
   "source": [
    " sample= sum(len(row) for row in random_array)"
   ]
  },
  {
   "cell_type": "code",
   "execution_count": 43,
   "id": "8e996852-4ea8-4592-ae4a-d8aa61d115de",
   "metadata": {},
   "outputs": [
    {
     "data": {
      "text/plain": [
       "10"
      ]
     },
     "execution_count": 43,
     "metadata": {},
     "output_type": "execute_result"
    }
   ],
   "source": [
    "sample"
   ]
  },
  {
   "cell_type": "code",
   "execution_count": 44,
   "id": "4f7d07be-3bfe-42e2-b32a-64e16303cef5",
   "metadata": {},
   "outputs": [
    {
     "data": {
      "text/plain": [
       "10"
      ]
     },
     "execution_count": 44,
     "metadata": {},
     "output_type": "execute_result"
    }
   ],
   "source": [
    "random_array.size"
   ]
  },
  {
   "cell_type": "code",
   "execution_count": 45,
   "id": "72d2bf4e-bdd7-4154-8133-e991d80d5cbb",
   "metadata": {},
   "outputs": [
    {
     "data": {
      "text/plain": [
       "10"
      ]
     },
     "execution_count": 45,
     "metadata": {},
     "output_type": "execute_result"
    }
   ],
   "source": [
    "np.size(random_array)"
   ]
  },
  {
   "cell_type": "markdown",
   "id": "a4001159-05b6-42f5-8ff9-b6ff203288ac",
   "metadata": {},
   "source": [
    "## Array Operations\n",
    "- Numpy excels in performing mathematical operations on arrays efficiently.\n",
    "\n",
    "### Element-wise Operations\n",
    "You can perform operations on entire arrays element by element:"
   ]
  },
  {
   "cell_type": "code",
   "execution_count": 46,
   "id": "dea3afcd-fc07-4736-8f2c-f0d1a593f23e",
   "metadata": {},
   "outputs": [],
   "source": [
    "arr= arr +1 # add one to each element\n"
   ]
  },
  {
   "cell_type": "code",
   "execution_count": 47,
   "id": "8632b3e7-837c-40b8-874e-b08c65abf0d4",
   "metadata": {},
   "outputs": [
    {
     "data": {
      "text/plain": [
       "array([[3, 4, 5],\n",
       "       [5, 6, 7]])"
      ]
     },
     "execution_count": 47,
     "metadata": {},
     "output_type": "execute_result"
    }
   ],
   "source": [
    "arr"
   ]
  },
  {
   "cell_type": "code",
   "execution_count": 48,
   "id": "b24ac210-5238-4dff-ae59-f837a07ce684",
   "metadata": {},
   "outputs": [
    {
     "data": {
      "text/plain": [
       "array([[5, 6, 7],\n",
       "       [7, 8, 9]])"
      ]
     },
     "execution_count": 48,
     "metadata": {},
     "output_type": "execute_result"
    }
   ],
   "source": [
    "arr + 2"
   ]
  },
  {
   "cell_type": "code",
   "execution_count": 49,
   "id": "68930089-2e5d-4631-988d-78e3c64c44d4",
   "metadata": {},
   "outputs": [],
   "source": [
    "arr1=np.ones (4)\n",
    "arr2=np.full(4,3)"
   ]
  },
  {
   "cell_type": "code",
   "execution_count": 50,
   "id": "bb4bad0e-d973-4cf9-8e4a-72b7dab8abbc",
   "metadata": {},
   "outputs": [
    {
     "data": {
      "text/plain": [
       "array([7., 7., 7., 7.])"
      ]
     },
     "execution_count": 50,
     "metadata": {},
     "output_type": "execute_result"
    }
   ],
   "source": [
    "result= sum(arr1,arr2)\n",
    "result"
   ]
  },
  {
   "cell_type": "code",
   "execution_count": 51,
   "id": "2010b21d-267b-4cae-8f3c-a6ac47ca7ad5",
   "metadata": {},
   "outputs": [],
   "source": [
    "result= arr1/arr2"
   ]
  },
  {
   "cell_type": "code",
   "execution_count": 52,
   "id": "db5ff767-2fb3-4fac-919a-40938832476e",
   "metadata": {},
   "outputs": [
    {
     "data": {
      "text/plain": [
       "array([0.33333333, 0.33333333, 0.33333333, 0.33333333])"
      ]
     },
     "execution_count": 52,
     "metadata": {},
     "output_type": "execute_result"
    }
   ],
   "source": [
    "result"
   ]
  },
  {
   "cell_type": "code",
   "execution_count": 53,
   "id": "a4607d74-4b25-4d97-920b-5566cfebf001",
   "metadata": {},
   "outputs": [],
   "source": [
    "arr = np.array([1, 2, 3, 4])\n",
    "greater_than_2 = arr > 2  # Produces [False, False, True, True]"
   ]
  },
  {
   "cell_type": "code",
   "execution_count": 54,
   "id": "b3c9c6bf-8a6f-4d18-a9b7-5d591a98834a",
   "metadata": {},
   "outputs": [
    {
     "data": {
      "text/plain": [
       "array([False, False,  True,  True])"
      ]
     },
     "execution_count": 54,
     "metadata": {},
     "output_type": "execute_result"
    }
   ],
   "source": [
    "greater_than_2 "
   ]
  },
  {
   "cell_type": "code",
   "execution_count": 55,
   "id": "8d0c22e7-c6ea-4e4c-abbe-ebf7f9e98c80",
   "metadata": {},
   "outputs": [],
   "source": [
    "max_value=arr.max()\n",
    "min_value=arr.min()\n",
    "summation=arr.sum()\n",
    "mean_value=arr.mean()\n",
    "std_deviation=arr.std()"
   ]
  },
  {
   "cell_type": "code",
   "execution_count": 56,
   "id": "62edf8c5-2d96-4d62-a4ec-60fa271c2a73",
   "metadata": {},
   "outputs": [
    {
     "name": "stdout",
     "output_type": "stream",
     "text": [
      "2.5\n"
     ]
    }
   ],
   "source": [
    "print(mean_value)\n"
   ]
  },
  {
   "cell_type": "code",
   "execution_count": 57,
   "id": "df05e2e6-ec45-4fd0-b31d-b8a5cd63d670",
   "metadata": {},
   "outputs": [
    {
     "name": "stdout",
     "output_type": "stream",
     "text": [
      "1.118033988749895\n"
     ]
    }
   ],
   "source": [
    "print(std_deviation)"
   ]
  },
  {
   "cell_type": "markdown",
   "id": "9911404e-2e81-4241-90be-6a52e79fc27c",
   "metadata": {},
   "source": [
    "# Linear algebra "
   ]
  },
  {
   "cell_type": "markdown",
   "id": "f681de22-21a8-4543-a53e-4e9e3012cc80",
   "metadata": {},
   "source": [
    "- Vector operations\n",
    "- Multiplication\n",
    "- Vector-vector multiplication\n",
    "- Matrix-vector multiplication\n",
    "- Matrix-matrix multiplication\n",
    "- Identity matrix\n",
    "- Inverse"
   ]
  },
  {
   "cell_type": "markdown",
   "id": "bd2f740c-432a-4742-bd3a-0b6a436e8f93",
   "metadata": {},
   "source": [
    "## Vector Operations "
   ]
  },
  {
   "cell_type": "code",
   "execution_count": 58,
   "id": "b3e41d21-c290-496a-8e3f-5126456ccb6f",
   "metadata": {},
   "outputs": [
    {
     "data": {
      "text/plain": [
       "array([ 9, 11, 13,  8])"
      ]
     },
     "execution_count": 58,
     "metadata": {},
     "output_type": "execute_result"
    }
   ],
   "source": [
    "u=np.array([2,3,4,5])\n",
    "v=np.array([7,8,9,3])\n",
    "\n",
    "u+ v"
   ]
  },
  {
   "cell_type": "code",
   "execution_count": 59,
   "id": "f2e3efb6-8802-4fb4-9cf5-84003cc7739c",
   "metadata": {},
   "outputs": [
    {
     "data": {
      "text/plain": [
       "array([-5, -5, -5,  2])"
      ]
     },
     "execution_count": 59,
     "metadata": {},
     "output_type": "execute_result"
    }
   ],
   "source": [
    "u-v"
   ]
  },
  {
   "cell_type": "code",
   "execution_count": 60,
   "id": "3bdaaa27-9120-46cb-9ac9-97da007e3761",
   "metadata": {},
   "outputs": [
    {
     "data": {
      "text/plain": [
       "array([14, 16, 18,  6])"
      ]
     },
     "execution_count": 60,
     "metadata": {},
     "output_type": "execute_result"
    }
   ],
   "source": [
    "2*v"
   ]
  },
  {
   "cell_type": "code",
   "execution_count": 61,
   "id": "d0697f35-33e5-42e0-82ff-ee07fd4acca4",
   "metadata": {},
   "outputs": [
    {
     "data": {
      "text/plain": [
       "int"
      ]
     },
     "execution_count": 61,
     "metadata": {},
     "output_type": "execute_result"
    }
   ],
   "source": [
    "type(u.shape[0])"
   ]
  },
  {
   "cell_type": "markdown",
   "id": "6c334527-3a4b-4a09-a735-ed05df413dfd",
   "metadata": {},
   "source": [
    "## Vector Multiplication"
   ]
  },
  {
   "cell_type": "code",
   "execution_count": 62,
   "id": "0a2e77de-0a61-4216-ad9b-30c6db9ba45f",
   "metadata": {},
   "outputs": [],
   "source": [
    "def vector_vectpor_multiplication (u,v):\n",
    "    assert u.shape[0]==v.shape[0], \"the dimensions of both vectors must be the same\"\n",
    "    n= u.shape[0]\n",
    "    container=[]\n",
    "    for x in range(n):\n",
    "        dot=u[x]*v[x]\n",
    "        container.append(dot)\n",
    "    result_mul= sum(container)\n",
    "    return result_mul\n",
    "        "
   ]
  },
  {
   "cell_type": "code",
   "execution_count": 63,
   "id": "78e03bbc-aaef-4f85-b9a5-87bd7e703a79",
   "metadata": {},
   "outputs": [],
   "source": [
    "dot_product=vector_vectpor_multiplication(u,v)"
   ]
  },
  {
   "cell_type": "code",
   "execution_count": 64,
   "id": "fd996daf-5e3c-4ad8-b29a-44c9386ed42b",
   "metadata": {},
   "outputs": [
    {
     "data": {
      "text/plain": [
       "np.int64(89)"
      ]
     },
     "execution_count": 64,
     "metadata": {},
     "output_type": "execute_result"
    }
   ],
   "source": [
    "dot_product"
   ]
  },
  {
   "cell_type": "code",
   "execution_count": 65,
   "id": "3a59150d-0fd9-4c36-88d9-b8fe4f1bedd3",
   "metadata": {},
   "outputs": [],
   "source": [
    "def vector_vector_multiplication1(u, v):\n",
    "    assert u.shape[0] == v.shape[0]\n",
    "    \n",
    "    n = u.shape[0]\n",
    "    \n",
    "    result = 0.0\n",
    "\n",
    "    for i in range(n):\n",
    "        result = result + u[i] * v[i]\n",
    "    \n",
    "    return result"
   ]
  },
  {
   "cell_type": "code",
   "execution_count": 66,
   "id": "b103292a-73c1-473d-916a-2033a46a4812",
   "metadata": {},
   "outputs": [
    {
     "data": {
      "text/plain": [
       "np.float64(89.0)"
      ]
     },
     "execution_count": 66,
     "metadata": {},
     "output_type": "execute_result"
    }
   ],
   "source": [
    "dot_product=vector_vector_multiplication1(u,v)\n",
    "dot_product"
   ]
  },
  {
   "cell_type": "markdown",
   "id": "bb268cca-1c02-4beb-9823-9dec88d7e27f",
   "metadata": {},
   "source": [
    "## Matrix vector multiplication"
   ]
  },
  {
   "cell_type": "code",
   "execution_count": 67,
   "id": "9d275bf1-abc6-45d3-bbd4-52236577f731",
   "metadata": {},
   "outputs": [],
   "source": [
    "def matrix_vector_multiplication(v,u):\n",
    "    \n",
    "    assert u.shape[0]==v.shape[1], \"number of vector rows(entries) must match matrix column number\"\n",
    "    n=v.shape[0]\n",
    "    r=v.shape[1]\n",
    "    container=[]\n",
    "    for i in range(n):\n",
    "        s=0\n",
    "        for q in range(r):\n",
    "            s=s+v[i,q]*u[q]\n",
    "        container.append(s)\n",
    "    return container \n",
    "        \n",
    "            "
   ]
  },
  {
   "cell_type": "code",
   "execution_count": 68,
   "id": "64a75f4c-6ab8-4a9c-a26d-013ca8070285",
   "metadata": {},
   "outputs": [],
   "source": [
    "u=np.array([1,3])\n",
    "v=np.array([[3,2],[2,1],[2,2]])"
   ]
  },
  {
   "cell_type": "code",
   "execution_count": 69,
   "id": "4c572041-79e4-45c5-ac9c-a65d4d18c5a5",
   "metadata": {},
   "outputs": [
    {
     "data": {
      "text/plain": [
       "[np.int64(9), np.int64(5), np.int64(8)]"
      ]
     },
     "execution_count": 69,
     "metadata": {},
     "output_type": "execute_result"
    }
   ],
   "source": [
    "matrix_vector_multiplication(v,u)"
   ]
  },
  {
   "cell_type": "code",
   "execution_count": 70,
   "id": "bf41462d-22e8-4227-95e2-cb8e33532a31",
   "metadata": {},
   "outputs": [
    {
     "data": {
      "text/plain": [
       "array([[3, 2],\n",
       "       [2, 1],\n",
       "       [2, 2]])"
      ]
     },
     "execution_count": 70,
     "metadata": {},
     "output_type": "execute_result"
    }
   ],
   "source": [
    "v"
   ]
  },
  {
   "cell_type": "code",
   "execution_count": 71,
   "id": "7b3636ca-f574-416e-a0e6-01d785ab0ed7",
   "metadata": {},
   "outputs": [
    {
     "data": {
      "text/plain": [
       "(3, 2)"
      ]
     },
     "execution_count": 71,
     "metadata": {},
     "output_type": "execute_result"
    }
   ],
   "source": [
    "v.shape"
   ]
  },
  {
   "cell_type": "code",
   "execution_count": 72,
   "id": "ef8e726c-500a-49ee-ab11-ae3461569a9c",
   "metadata": {},
   "outputs": [
    {
     "data": {
      "text/plain": [
       "np.int64(2)"
      ]
     },
     "execution_count": 72,
     "metadata": {},
     "output_type": "execute_result"
    }
   ],
   "source": [
    "v[0,1]"
   ]
  },
  {
   "cell_type": "code",
   "execution_count": 73,
   "id": "1b11c688-9d71-4030-89dc-2a90f2b899f7",
   "metadata": {},
   "outputs": [
    {
     "data": {
      "text/plain": [
       "np.int64(1)"
      ]
     },
     "execution_count": 73,
     "metadata": {},
     "output_type": "execute_result"
    }
   ],
   "source": [
    "u[0]"
   ]
  },
  {
   "cell_type": "code",
   "execution_count": 74,
   "id": "8f745463-9868-40f8-819e-176e87721eb4",
   "metadata": {},
   "outputs": [],
   "source": [
    "def matrix_matrix_multiplication (U,V):\n",
    "    assert U.shape[1]==V.shape[0], \"The number of columns in 𝐴 must equal the number of rows in 𝐵\"\n",
    "    C= np.zeros([U.shape[0],V.shape[1]])\n",
    "    n= C.shape[0]\n",
    "    r=C.shape[1]\n",
    "    for n in range(n):\n",
    "        C[n,:]= matrix_vector_multiplication(V,U[n,:])\n",
    "    return C\n",
    "        "
   ]
  },
  {
   "cell_type": "code",
   "execution_count": 75,
   "id": "98f561e0",
   "metadata": {},
   "outputs": [],
   "source": [
    "A=np.array([[7,8],[9,10]])\n",
    "B=np.array([[1,2],[3,4],[5,6]])"
   ]
  },
  {
   "cell_type": "code",
   "execution_count": 76,
   "id": "e1d24962",
   "metadata": {},
   "outputs": [
    {
     "data": {
      "text/plain": [
       "array([[ 23.,  29.],\n",
       "       [ 53.,  67.],\n",
       "       [ 83., 105.]])"
      ]
     },
     "execution_count": 76,
     "metadata": {},
     "output_type": "execute_result"
    }
   ],
   "source": [
    "matrix_matrix_multiplication(B,A)"
   ]
  },
  {
   "cell_type": "code",
   "execution_count": 77,
   "id": "306829f7",
   "metadata": {},
   "outputs": [
    {
     "data": {
      "text/plain": [
       "array([[0., 0., 0.],\n",
       "       [0., 0., 0.]])"
      ]
     },
     "execution_count": 77,
     "metadata": {},
     "output_type": "execute_result"
    }
   ],
   "source": [
    "C= np.zeros([2,3])\n",
    "C"
   ]
  },
  {
   "cell_type": "code",
   "execution_count": 78,
   "id": "42ab5433",
   "metadata": {},
   "outputs": [
    {
     "data": {
      "text/plain": [
       "2"
      ]
     },
     "execution_count": 78,
     "metadata": {},
     "output_type": "execute_result"
    }
   ],
   "source": [
    "V.shape[1]"
   ]
  }
 ],
 "metadata": {
  "kernelspec": {
   "display_name": "Python 3",
   "language": "python",
   "name": "python3"
  },
  "language_info": {
   "codemirror_mode": {
    "name": "ipython",
    "version": 3
   },
   "file_extension": ".py",
   "mimetype": "text/x-python",
   "name": "python",
   "nbconvert_exporter": "python",
   "pygments_lexer": "ipython3",
   "version": "3.12.1"
  }
 },
 "nbformat": 4,
 "nbformat_minor": 5
}
